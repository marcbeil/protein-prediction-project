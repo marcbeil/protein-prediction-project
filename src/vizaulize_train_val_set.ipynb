{
 "cells": [
  {
   "cell_type": "code",
   "id": "initial_id",
   "metadata": {
    "collapsed": true,
    "ExecuteTime": {
     "end_time": "2025-06-04T16:49:14.806305Z",
     "start_time": "2025-06-04T16:49:14.770380Z"
    }
   },
   "source": [
    "import pandas as pd\n",
    "\n",
    "train_df = pd.read_csv(\"../datasets/v1/train_split.csv\")\n",
    "val_df = pd.read_csv(\"../datasets/v1/val_split.csv\")\n",
    "\n",
    "\n",
    "def cath(df):\n",
    "    target_label_col_list = [\"class\", \"architecture\", \"topology\", \"homology\"]\n",
    "    df['cath'] = df[target_label_col_list[0]].astype(str)\n",
    "    for col in target_label_col_list[1:]:\n",
    "        df['cath'] = df['cath'] + '.' + df[col].astype(str)\n",
    "    return df\n",
    "train_df = cath(train_df)\n",
    "val_df = cath(val_df)"
   ],
   "outputs": [],
   "execution_count": 1
  },
  {
   "metadata": {
    "ExecuteTime": {
     "end_time": "2025-06-04T16:49:14.825488Z",
     "start_time": "2025-06-04T16:49:14.819616Z"
    }
   },
   "cell_type": "code",
   "source": "train_df[\"cath\"].value_counts()",
   "id": "49a64d6ad0e80534",
   "outputs": [
    {
     "data": {
      "text/plain": [
       "cath\n",
       "3.40.50.20      12\n",
       "2.80.10.50      12\n",
       "3.30.70.890     12\n",
       "2.10.50.10      12\n",
       "3.40.250.10     12\n",
       "                ..\n",
       "1.25.50.20       3\n",
       "2.30.30.380      3\n",
       "3.30.565.40      3\n",
       "2.60.40.1240     3\n",
       "3.30.2010.10     3\n",
       "Name: count, Length: 898, dtype: int64"
      ]
     },
     "execution_count": 2,
     "metadata": {},
     "output_type": "execute_result"
    }
   ],
   "execution_count": 2
  },
  {
   "metadata": {
    "ExecuteTime": {
     "end_time": "2025-06-04T16:49:18.536630Z",
     "start_time": "2025-06-04T16:49:18.533409Z"
    }
   },
   "cell_type": "code",
   "source": "val_df[\"cath\"].value_counts()",
   "id": "89261ed3e923aafc",
   "outputs": [
    {
     "data": {
      "text/plain": [
       "cath\n",
       "3.30.450.40     4\n",
       "3.30.70.360     4\n",
       "3.30.70.330     4\n",
       "2.40.70.10      4\n",
       "3.30.505.10     4\n",
       "               ..\n",
       "3.40.525.10     1\n",
       "3.30.70.940     1\n",
       "2.30.180.10     1\n",
       "1.10.3520.10    1\n",
       "3.40.1180.10    1\n",
       "Name: count, Length: 898, dtype: int64"
      ]
     },
     "execution_count": 3,
     "metadata": {},
     "output_type": "execute_result"
    }
   ],
   "execution_count": 3
  },
  {
   "metadata": {},
   "cell_type": "code",
   "outputs": [],
   "execution_count": null,
   "source": "",
   "id": "485f7b37c32136b9"
  }
 ],
 "metadata": {
  "kernelspec": {
   "display_name": "Python 3",
   "language": "python",
   "name": "python3"
  },
  "language_info": {
   "codemirror_mode": {
    "name": "ipython",
    "version": 2
   },
   "file_extension": ".py",
   "mimetype": "text/x-python",
   "name": "python",
   "nbconvert_exporter": "python",
   "pygments_lexer": "ipython2",
   "version": "2.7.6"
  }
 },
 "nbformat": 4,
 "nbformat_minor": 5
}
