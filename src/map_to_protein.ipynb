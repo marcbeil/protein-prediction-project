{
 "cells": [
  {
   "metadata": {},
   "cell_type": "markdown",
   "source": [
    "# Forth protein mapping implementation\n",
    "\n",
    "Main idea:\n",
    "- get from CATH domain_ids + cath_domain_coordinates\n",
    "- get from RSCB protein_seq\n",
    "- search in RSCB for  rscb_domain_coordinates\n",
    "  - exact match of domain_id\n",
    "  - cath_domain_coordinates\n",
    "  - length\n",
    "  - seq alignment\n",
    "- cut domain_seq from protein using rscb_domain_coordinates\n",
    "\n",
    "Problem:\n",
    "- still some of domain_ids could not be mapped\n",
    "\n",
    "TODO:\n",
    "- сheck seq alignment\n",
    "- ~~automate remaining exceptions~~ make research if it even makes sense"
   ],
   "id": "bd3862ac2e6d6237"
  },
  {
   "metadata": {
    "ExecuteTime": {
     "end_time": "2025-06-01T20:17:41.115387Z",
     "start_time": "2025-06-01T20:17:40.051144Z"
    }
   },
   "cell_type": "code",
   "source": [
    "import pandas as pd\n",
    "\n",
    "df = pd.read_csv(\"../data/subset.csv\")\n",
    "required_columns = [\"domain_parts\", \"length\", \"cath_domain_start1\", \"cath_domain_end1\"]\n",
    "total_rows = len(df)\n",
    "\n",
    "incomplete_rows_df = df[df[required_columns].isnull().any(axis=1)]\n",
    "incomplete_rows = len(incomplete_rows_df)\n",
    "\n",
    "print(f\"{incomplete_rows} rows with missing required fields out of {total_rows} total rows\")\n",
    "\n",
    "domain_column = 'domain_id'\n",
    "incomplete_ids = set(incomplete_rows_df[domain_column].dropna().tolist())\n",
    "\n",
    "fasta_path = \"../data/cath-domain-seqs.fa\"\n",
    "results = {}\n",
    "\n",
    "with open(fasta_path, \"r\") as file:\n",
    "    for line in file:\n",
    "        if line.startswith(\">\"):\n",
    "            header = line.strip()\n",
    "            last_part = header.split('|')[-1]\n",
    "            if '/' in last_part:\n",
    "                domain_id, region = last_part.split('/')\n",
    "                if domain_id in incomplete_ids:\n",
    "                    results[domain_id] = region\n",
    "\n",
    "\n",
    "for domain_id, region in results.items():\n",
    "    print(f\"{domain_id}: {region}\")"
   ],
   "id": "e624f106f876a517",
   "outputs": [
    {
     "name": "stdout",
     "output_type": "stream",
     "text": [
      "0 rows with missing required fields out of 11774 total rows\n"
     ]
    }
   ],
   "execution_count": 9
  },
  {
   "metadata": {},
   "cell_type": "markdown",
   "source": [
    "New problem:\n",
    "- more than 1k domains have multiple sites\n",
    "- now they all are parsed\n",
    "\n",
    "TODO:\n",
    "- make some research\n",
    "- find algorithm to work with them"
   ],
   "id": "aa32d1efcc2e1130"
  },
  {
   "metadata": {
    "ExecuteTime": {
     "end_time": "2025-06-03T09:01:06.279643Z",
     "start_time": "2025-06-03T08:34:44.537796Z"
    }
   },
   "cell_type": "code",
   "source": [
    "import os\n",
    "import glob\n",
    "import pandas as pd\n",
    "import requests\n",
    "from tqdm import tqdm\n",
    "from Bio import SeqIO\n",
    "from Bio.Align import PairwiseAligner\n",
    "\n",
    "checkpoint_dir = \"../data/checkpoints\"\n",
    "os.makedirs(checkpoint_dir, exist_ok=True)\n",
    "\n",
    "checkpoint_files = glob.glob(os.path.join(checkpoint_dir, \"mapped_checkpoint_*.csv\"))\n",
    "if checkpoint_files:\n",
    "    latest_checkpoint = max(checkpoint_files, key=os.path.getctime)\n",
    "    df = pd.read_csv(latest_checkpoint)\n",
    "    print(f\"[Resume] Loaded checkpoint: {latest_checkpoint}\")\n",
    "else:\n",
    "    df = pd.read_csv(\"../data/subset.csv\")\n",
    "    df[\"protein_sequence\"] = \"\"\n",
    "    max_parts = df[\"domain_parts\"].max()\n",
    "    for i in range(1, max_parts + 1):\n",
    "        df[f\"domain_start{i}\"] = None\n",
    "        df[f\"domain_end{i}\"] = None\n",
    "        df[f\"domain_sequence{i}\"] = \"\"\n",
    "    print(\"[Start] No checkpoint found. Starting from scratch.\")\n",
    "\n",
    "unprocessed_mask = df[\"protein_sequence\"].isnull() | (df[\"protein_sequence\"].str.strip() == \"\")\n",
    "unprocessed_indices = df[unprocessed_mask].index\n",
    "\n",
    "cath_fasta = {\n",
    "    record.id.split(\"|\")[-1].split(\"/\")[0]: record\n",
    "    for record in SeqIO.parse(\"../data/cath-domain-seqs.fa\", \"fasta\")\n",
    "}\n",
    "\n",
    "pdb_overrides = {\n",
    "    \"1vx4K02\": {\"pdb\": \"3j7p\", \"chain\": \"K\"},\n",
    "    \"4hubI02\": {\"pdb\": \"4v9f\", \"chain\": \"I\"},\n",
    "    \"7cosB02\": {\"pdb\": \"8igw\", \"chain\": \"B\"},\n",
    "    \"1mslA02\": {\"pdb\": \"2oar\", \"chain\": \"A\"},\n",
    "    \"3s6n201\": {\"pdb\": \"5xjl\", \"chain\": \"2\"},\n",
    "    \"2j01501\": {\"pdb\": \"4v51\", \"chain\": \"B5\"},\n",
    "    \"3u5cE04\": {\"pdb\": \"4v88\", \"chain\": \"CE\"},\n",
    "    \"2v49501\": {\"pdb\": \"4v5a\", \"chain\": \"B5\"},\n",
    "    \"3rjrB02\": {\"pdb\": \"5vqf\", \"chain\": \"B\"},\n",
    "    \"3o58g00\": {\"pdb\": \"4v7r\", \"chain\": \"Bg\"},\n",
    "    \"3o58d00\": {\"pdb\": \"4v7r\", \"chain\": \"Dg\"},\n",
    "    \"1vwxA02\": {\"pdb\": \"3j7o\", \"chain\": \"A\"},\n",
    "    \"4i4m600\": {\"pdb\": \"4v9f\", \"chain\": \"6\"},\n",
    "    \"4a18X01\": {\"pdb\": \"4v8p\", \"chain\": \"AX\"},\n",
    "    \"4p6vF01\": {\"pdb\": \"8acy\", \"chain\": \"F\"},\n",
    "    \"2m25A00\": {\"pdb\": \"2n17\", \"chain\": \"A\"},\n",
    "    \"1vx4407\": {\"pdb\": \"3j7p\", \"chain\": \"4\"},\n",
    "    \"3kitJ00\": {\"pdb\": \"4v7j\", \"chain\": \"AJ\"},\n",
    "    \"1vx7200\": {\"pdb\": \"3j79\", \"chain\": \"2\"},\n",
    "    \"1vwxr00\": {\"pdb\": \"3j7o\", \"chain\": \"r\"},\n",
    "    \"4a18O00\": {\"pdb\": \"4v8p\", \"chain\": \"AO\"},\n",
    "    \"1vx2P00\": {\"pdb\": \"3j7r\", \"chain\": \"SP\"},\n",
    "    \"3o30I00\": {\"pdb\": \"4v7r\", \"chain\": \"AI\"},\n",
    "    \"3u5eJ00\": {\"pdb\": \"4v88\", \"chain\": \"BJ\"},\n",
    "    \"4k0mC02\": {\"pdb\": \"4v9i\", \"chain\": \"BC\"},\n",
    "    \"3o58A02\": {\"pdb\": \"4v7r\", \"chain\": \"BA\"},\n",
    "    \"7yyqA01\": {\"pdb\": \"8ql2\", \"chain\": \"A\"},\n",
    "    \"3o58D00\": {\"pdb\": \"4v7r\", \"chain\": \"Dd\"},\n",
    "    \"1vw3D00\": {\"pdb\": \"3j6b\", \"chain\": \"D\"},\n",
    "    \"1vwxP00\": {\"pdb\": \"3j7o\", \"chain\": \"P\"},\n",
    "    \"1vx7W00\": {\"pdb\": \"3j79\", \"chain\": \"W\"},\n",
    "    \"3o58J00\": {\"pdb\": \"4v7r\", \"chain\": \"BJ\"},\n",
    "    \"3kypE01\": {\"pdb\": \"5x7v\", \"chain\": \"E\"},\n",
    "    \"1vw4801\": {\"pdb\": \"3j6b\", \"chain\": \"8\"},\n",
    "    \"1vw4F02\": {\"pdb\": \"3j6b\", \"chain\": \"F\"},\n",
    "    \"1vw4F01\": {\"pdb\": \"3j6b\", \"chain\": \"F\"},\n",
    "    \"4gnsA01\": {\"pdb\": \"4yg8\", \"chain\": \"A\"},\n",
    "    \"1vs9S01\": {\"pdb\": \"4v4i\", \"chain\": \"S\"},\n",
    "    \"3p9dA03\": {\"pdb\": \"4v81\", \"chain\": \"A\"},\n",
    "    \"4d8qF03\": {\"pdb\": \"4v94\", \"chain\": \"F\"},\n",
    "    \"4a17E01\": {\"pdb\": \"4v8p\", \"chain\": \"BE\"},\n",
    "}\n",
    "\n",
    "def get_fasta_sequence_with_label(pdb_id, auth_chain_id):\n",
    "    url = f\"https://www.rcsb.org/fasta/entry/{pdb_id}\"\n",
    "    try:\n",
    "        response = requests.get(url)\n",
    "        if response.status_code != 200:\n",
    "            return \"\", None\n",
    "\n",
    "        fasta_blocks = response.text.strip().split(\">\")\n",
    "        for block in fasta_blocks:\n",
    "            lines = block.strip().splitlines()\n",
    "            if not lines:\n",
    "                continue\n",
    "            header = lines[0]\n",
    "            sequence = \"\".join(lines[1:])\n",
    "\n",
    "            if \"|Chain \" in header or \"|Chains \" in header:\n",
    "                chain_field = header.split(\"|\")[1]\n",
    "                parts = chain_field.replace(\"Chains \", \"\").replace(\"Chain \", \"\").split(\",\")\n",
    "                for part in parts:\n",
    "                    part = part.strip()\n",
    "                    if \"[auth \" in part:\n",
    "                        model_id = part.split(\"[auth\")[0].strip()\n",
    "                        auth_id = part.split(\"[auth\")[1].replace(\"]\", \"\").strip()\n",
    "                        if auth_chain_id == auth_id:\n",
    "                            return sequence, model_id\n",
    "                    else:\n",
    "                        if auth_chain_id == part:\n",
    "                            return sequence, auth_chain_id\n",
    "        return \"\", None\n",
    "    except Exception as e:\n",
    "        print(f\"[Error] Failed to fetch FASTA for PDB ID {pdb_id}, chain {auth_chain_id}: {e}\")\n",
    "        return \"\", None\n",
    "\n",
    "def get_cath_coordinates(pdb_id, chain_id, domain_id, expected_length, domain_start=None, domain_end=None, reference_seq=None, protein_seq=None):\n",
    "    url = f\"https://data.rcsb.org/rest/v1/core/polymer_entity_instance/{pdb_id}/{chain_id}\"\n",
    "    try:\n",
    "        response = requests.get(url)\n",
    "        response.raise_for_status()\n",
    "        data = response.json()\n",
    "\n",
    "        features = data.get(\"rcsb_polymer_instance_feature\", [])\n",
    "        matched_coords = []\n",
    "\n",
    "        # Step 1: match by domain_id\n",
    "        for feature in features:\n",
    "            if feature.get(\"type\") != \"CATH\":\n",
    "                continue\n",
    "            for prop in feature.get(\"additional_properties\", []):\n",
    "                if prop.get(\"name\") == \"CATH_DOMAIN_ID\":\n",
    "                    ids = [v.strip().lower() for v in prop.get(\"values\", [])]\n",
    "                    if domain_id.strip().lower() in ids:\n",
    "                        coords = feature.get(\"feature_positions\", [])\n",
    "                        matched_coords.extend([(c[\"beg_seq_id\"], c[\"end_seq_id\"]) for c in coords])\n",
    "\n",
    "        if matched_coords:\n",
    "            return matched_coords\n",
    "\n",
    "        # Step 2: match by domain start/end\n",
    "        if domain_start and domain_end:\n",
    "            for feature in features:\n",
    "                if feature.get(\"type\") != \"CATH\":\n",
    "                    continue\n",
    "                coords = feature.get(\"feature_positions\", [])\n",
    "                for c in coords:\n",
    "                    if abs(c[\"beg_seq_id\"] - domain_start) <= 2 and abs(c[\"end_seq_id\"] - domain_end) <= 2:\n",
    "                        matched_coords.append((c[\"beg_seq_id\"], c[\"end_seq_id\"]))\n",
    "            if matched_coords:\n",
    "                return matched_coords\n",
    "\n",
    "        # Step 3: match by domain length\n",
    "        for feature in features:\n",
    "            if feature.get(\"type\") != \"CATH\":\n",
    "                continue\n",
    "            coords = feature.get(\"feature_positions\", [])\n",
    "            for c in coords:\n",
    "                length = c[\"end_seq_id\"] - c[\"beg_seq_id\"] + 1\n",
    "                if expected_length - 2 <= length <= expected_length + 2:\n",
    "                    matched_coords.append((c[\"beg_seq_id\"], c[\"end_seq_id\"]))\n",
    "        if matched_coords:\n",
    "            return matched_coords\n",
    "\n",
    "        # Step 4: global sequence alignment\n",
    "        if reference_seq and protein_seq:\n",
    "            aligner = PairwiseAligner()\n",
    "            best_score = -1\n",
    "            best_start = None\n",
    "            for i in range(0, len(protein_seq) - expected_length + 1):\n",
    "                window = protein_seq[i:i+expected_length]\n",
    "                score = aligner.score(reference_seq[:expected_length], window)\n",
    "                if score > best_score:\n",
    "                    best_score = score\n",
    "                    best_start = i\n",
    "            if best_start is not None:\n",
    "                return [(best_start + 1, best_start + expected_length)]\n",
    "\n",
    "        print(f\"[No Match] Could not map {domain_id}\")\n",
    "        return []\n",
    "\n",
    "    except Exception as e:\n",
    "        print(f\"[Error] Failed to fetch CATH data for {pdb_id} {chain_id}: {e}\")\n",
    "        return []\n",
    "\n",
    "aligner = PairwiseAligner()\n",
    "\n",
    "for idx in tqdm(unprocessed_indices, total=len(unprocessed_indices)):\n",
    "    row = df.loc[idx]\n",
    "\n",
    "    domain_id = row.get(\"domain_id\", \"\")\n",
    "    if not isinstance(domain_id, str) or len(domain_id) < 6:\n",
    "        continue\n",
    "\n",
    "    if domain_id in pdb_overrides:\n",
    "        pdb_id = pdb_overrides[domain_id][\"pdb\"]\n",
    "        auth_chain_id = pdb_overrides[domain_id][\"chain\"]\n",
    "    else:\n",
    "        pdb_id = domain_id[:4].lower()\n",
    "        auth_chain_id = domain_id[4]\n",
    "\n",
    "    ref_seq_record = cath_fasta.get(domain_id)\n",
    "    reference_seq = str(ref_seq_record.seq) if ref_seq_record else None\n",
    "\n",
    "    protein_seq, label_asym_id = get_fasta_sequence_with_label(pdb_id, auth_chain_id)\n",
    "    if not protein_seq or not label_asym_id:\n",
    "        continue\n",
    "\n",
    "    df.at[idx, \"protein_sequence\"] = protein_seq\n",
    "\n",
    "    n_parts = int(row.get(\"domain_parts\", 1))\n",
    "    segment_lengths = []\n",
    "\n",
    "    for i in range(1, n_parts + 1):\n",
    "        start = row.get(f\"cath_domain_start{i}\")\n",
    "        end = row.get(f\"cath_domain_end{i}\")\n",
    "        if pd.notna(start) and pd.notna(end):\n",
    "            start, end = int(start), int(end)\n",
    "            segment_lengths.append(end - start + 1)\n",
    "\n",
    "    expected_length = sum(segment_lengths)\n",
    "\n",
    "    initial_coords = get_cath_coordinates(\n",
    "        pdb_id, label_asym_id, domain_id, expected_length,\n",
    "        domain_start=None, domain_end=None,\n",
    "        reference_seq=reference_seq, protein_seq=protein_seq\n",
    "    )\n",
    "\n",
    "    coordinates = initial_coords\n",
    "\n",
    "    if not coordinates:\n",
    "        coordinates = []\n",
    "        search_start = 0\n",
    "        for seg_len in segment_lengths:\n",
    "            best_score = -1\n",
    "            best_start = None\n",
    "            for j in range(search_start, len(protein_seq) - seg_len + 1):\n",
    "                window = protein_seq[j:j + seg_len]\n",
    "                score = aligner.score(reference_seq[:seg_len], window)\n",
    "                if score > best_score:\n",
    "                    best_score = score\n",
    "                    best_start = j\n",
    "            if best_start is None:\n",
    "                coordinates = []\n",
    "                break\n",
    "            coordinates.append((best_start + 1, best_start + seg_len))\n",
    "            search_start = best_start + seg_len\n",
    "\n",
    "    if not coordinates or len(coordinates) != n_parts:\n",
    "        print(f\"[Skip] {domain_id} → could not match all parts.\")\n",
    "        continue\n",
    "\n",
    "    full_seq = \"\"\n",
    "    for i, (start, end) in enumerate(coordinates, 1):\n",
    "        part_seq = protein_seq[start - 1:end]\n",
    "        df.at[idx, f\"domain_start{i}\"] = start\n",
    "        df.at[idx, f\"domain_end{i}\"] = end\n",
    "        df.at[idx, f\"domain_sequence{i}\"] = part_seq\n",
    "        full_seq += part_seq\n",
    "\n",
    "    df.at[idx, \"domain_sequence1\"] = full_seq\n",
    "\n",
    "    if (idx + 1) % 10 == 0:\n",
    "        df.to_csv(\"../data/subset_protein_mapped.csv\", index=False)\n",
    "        checkpoint_path = os.path.join(checkpoint_dir, f\"mapped_checkpoint_{idx + 1}.csv\")\n",
    "        df.to_csv(checkpoint_path, index=False)\n",
    "        print(f\"[Checkpoint] Saved progress at row {idx + 1}\")\n",
    "\n",
    "df.to_csv(\"../data/subset_protein_mapped.csv\", index=False)\n",
    "print(\"[Final] Saved full dataframe\")"
   ],
   "id": "817a192b186e05f1",
   "outputs": [
    {
     "name": "stdout",
     "output_type": "stream",
     "text": [
      "[Resume] Loaded checkpoint: ../data/checkpoints/mapped_checkpoint_10190.csv\n"
     ]
    },
    {
     "name": "stderr",
     "output_type": "stream",
     "text": [
      "  2%|▏         | 26/1600 [00:16<28:31,  1.09s/it]"
     ]
    },
    {
     "name": "stdout",
     "output_type": "stream",
     "text": [
      "[Checkpoint] Saved progress at row 10200\n"
     ]
    },
    {
     "name": "stderr",
     "output_type": "stream",
     "text": [
      "  2%|▏         | 36/1600 [00:26<29:15,  1.12s/it]"
     ]
    },
    {
     "name": "stdout",
     "output_type": "stream",
     "text": [
      "[Checkpoint] Saved progress at row 10210\n"
     ]
    },
    {
     "name": "stderr",
     "output_type": "stream",
     "text": [
      "  3%|▎         | 46/1600 [00:36<27:22,  1.06s/it]"
     ]
    },
    {
     "name": "stdout",
     "output_type": "stream",
     "text": [
      "[Checkpoint] Saved progress at row 10220\n"
     ]
    },
    {
     "name": "stderr",
     "output_type": "stream",
     "text": [
      "  4%|▎         | 56/1600 [00:46<27:44,  1.08s/it]"
     ]
    },
    {
     "name": "stdout",
     "output_type": "stream",
     "text": [
      "[Checkpoint] Saved progress at row 10230\n"
     ]
    },
    {
     "name": "stderr",
     "output_type": "stream",
     "text": [
      "  4%|▍         | 66/1600 [00:55<28:02,  1.10s/it]"
     ]
    },
    {
     "name": "stdout",
     "output_type": "stream",
     "text": [
      "[Checkpoint] Saved progress at row 10240\n"
     ]
    },
    {
     "name": "stderr",
     "output_type": "stream",
     "text": [
      "  5%|▍         | 76/1600 [01:06<29:18,  1.15s/it]"
     ]
    },
    {
     "name": "stdout",
     "output_type": "stream",
     "text": [
      "[Checkpoint] Saved progress at row 10250\n"
     ]
    },
    {
     "name": "stderr",
     "output_type": "stream",
     "text": [
      "  5%|▌         | 86/1600 [01:15<27:24,  1.09s/it]"
     ]
    },
    {
     "name": "stdout",
     "output_type": "stream",
     "text": [
      "[Checkpoint] Saved progress at row 10260\n"
     ]
    },
    {
     "name": "stderr",
     "output_type": "stream",
     "text": [
      "  6%|▌         | 96/1600 [01:26<30:22,  1.21s/it]"
     ]
    },
    {
     "name": "stdout",
     "output_type": "stream",
     "text": [
      "[Checkpoint] Saved progress at row 10270\n"
     ]
    },
    {
     "name": "stderr",
     "output_type": "stream",
     "text": [
      "  7%|▋         | 106/1600 [01:36<29:46,  1.20s/it]"
     ]
    },
    {
     "name": "stdout",
     "output_type": "stream",
     "text": [
      "[Checkpoint] Saved progress at row 10280\n"
     ]
    },
    {
     "name": "stderr",
     "output_type": "stream",
     "text": [
      "  7%|▋         | 116/1600 [01:46<27:06,  1.10s/it]"
     ]
    },
    {
     "name": "stdout",
     "output_type": "stream",
     "text": [
      "[Checkpoint] Saved progress at row 10290\n"
     ]
    },
    {
     "name": "stderr",
     "output_type": "stream",
     "text": [
      "  8%|▊         | 126/1600 [01:57<26:00,  1.06s/it]"
     ]
    },
    {
     "name": "stdout",
     "output_type": "stream",
     "text": [
      "[Checkpoint] Saved progress at row 10300\n"
     ]
    },
    {
     "name": "stderr",
     "output_type": "stream",
     "text": [
      "  8%|▊         | 136/1600 [02:06<25:35,  1.05s/it]"
     ]
    },
    {
     "name": "stdout",
     "output_type": "stream",
     "text": [
      "[Checkpoint] Saved progress at row 10310\n"
     ]
    },
    {
     "name": "stderr",
     "output_type": "stream",
     "text": [
      "  9%|▉         | 146/1600 [02:17<27:36,  1.14s/it]"
     ]
    },
    {
     "name": "stdout",
     "output_type": "stream",
     "text": [
      "[Checkpoint] Saved progress at row 10320\n"
     ]
    },
    {
     "name": "stderr",
     "output_type": "stream",
     "text": [
      " 10%|▉         | 156/1600 [02:27<27:16,  1.13s/it]"
     ]
    },
    {
     "name": "stdout",
     "output_type": "stream",
     "text": [
      "[Checkpoint] Saved progress at row 10330\n"
     ]
    },
    {
     "name": "stderr",
     "output_type": "stream",
     "text": [
      " 10%|█         | 163/1600 [02:34<23:27,  1.02it/s]"
     ]
    },
    {
     "name": "stdout",
     "output_type": "stream",
     "text": [
      "[Skip] 5yuyA02 → could not match all parts.\n"
     ]
    },
    {
     "name": "stderr",
     "output_type": "stream",
     "text": [
      " 10%|█         | 166/1600 [02:37<25:39,  1.07s/it]"
     ]
    },
    {
     "name": "stdout",
     "output_type": "stream",
     "text": [
      "[Checkpoint] Saved progress at row 10340\n"
     ]
    },
    {
     "name": "stderr",
     "output_type": "stream",
     "text": [
      " 11%|█         | 176/1600 [02:47<25:35,  1.08s/it]"
     ]
    },
    {
     "name": "stdout",
     "output_type": "stream",
     "text": [
      "[Checkpoint] Saved progress at row 10350\n"
     ]
    },
    {
     "name": "stderr",
     "output_type": "stream",
     "text": [
      " 12%|█▏        | 186/1600 [02:58<26:58,  1.14s/it]"
     ]
    },
    {
     "name": "stdout",
     "output_type": "stream",
     "text": [
      "[Checkpoint] Saved progress at row 10360\n"
     ]
    },
    {
     "name": "stderr",
     "output_type": "stream",
     "text": [
      " 12%|█▏        | 196/1600 [03:07<24:24,  1.04s/it]"
     ]
    },
    {
     "name": "stdout",
     "output_type": "stream",
     "text": [
      "[Checkpoint] Saved progress at row 10370\n"
     ]
    },
    {
     "name": "stderr",
     "output_type": "stream",
     "text": [
      " 13%|█▎        | 206/1600 [03:17<23:32,  1.01s/it]"
     ]
    },
    {
     "name": "stdout",
     "output_type": "stream",
     "text": [
      "[Checkpoint] Saved progress at row 10380\n"
     ]
    },
    {
     "name": "stderr",
     "output_type": "stream",
     "text": [
      " 14%|█▎        | 216/1600 [03:26<23:17,  1.01s/it]"
     ]
    },
    {
     "name": "stdout",
     "output_type": "stream",
     "text": [
      "[Checkpoint] Saved progress at row 10390\n"
     ]
    },
    {
     "name": "stderr",
     "output_type": "stream",
     "text": [
      " 14%|█▍        | 226/1600 [03:35<24:31,  1.07s/it]"
     ]
    },
    {
     "name": "stdout",
     "output_type": "stream",
     "text": [
      "[Checkpoint] Saved progress at row 10400\n"
     ]
    },
    {
     "name": "stderr",
     "output_type": "stream",
     "text": [
      " 15%|█▍        | 236/1600 [03:45<23:15,  1.02s/it]"
     ]
    },
    {
     "name": "stdout",
     "output_type": "stream",
     "text": [
      "[Checkpoint] Saved progress at row 10410\n"
     ]
    },
    {
     "name": "stderr",
     "output_type": "stream",
     "text": [
      " 15%|█▌        | 246/1600 [03:55<24:49,  1.10s/it]"
     ]
    },
    {
     "name": "stdout",
     "output_type": "stream",
     "text": [
      "[Checkpoint] Saved progress at row 10420\n"
     ]
    },
    {
     "name": "stderr",
     "output_type": "stream",
     "text": [
      " 16%|█▌        | 256/1600 [04:04<23:29,  1.05s/it]"
     ]
    },
    {
     "name": "stdout",
     "output_type": "stream",
     "text": [
      "[Checkpoint] Saved progress at row 10430\n"
     ]
    },
    {
     "name": "stderr",
     "output_type": "stream",
     "text": [
      " 17%|█▋        | 266/1600 [04:14<24:16,  1.09s/it]"
     ]
    },
    {
     "name": "stdout",
     "output_type": "stream",
     "text": [
      "[Checkpoint] Saved progress at row 10440\n"
     ]
    },
    {
     "name": "stderr",
     "output_type": "stream",
     "text": [
      " 17%|█▋        | 270/1600 [04:17<20:34,  1.08it/s]"
     ]
    },
    {
     "name": "stdout",
     "output_type": "stream",
     "text": [
      "[No Match] Could not map 3o58D00\n",
      "[Skip] 3o58D00 → could not match all parts.\n"
     ]
    },
    {
     "name": "stderr",
     "output_type": "stream",
     "text": [
      " 17%|█▋        | 276/1600 [04:23<23:39,  1.07s/it]"
     ]
    },
    {
     "name": "stdout",
     "output_type": "stream",
     "text": [
      "[Checkpoint] Saved progress at row 10450\n"
     ]
    },
    {
     "name": "stderr",
     "output_type": "stream",
     "text": [
      " 18%|█▊        | 286/1600 [04:33<24:07,  1.10s/it]"
     ]
    },
    {
     "name": "stdout",
     "output_type": "stream",
     "text": [
      "[Checkpoint] Saved progress at row 10460\n"
     ]
    },
    {
     "name": "stderr",
     "output_type": "stream",
     "text": [
      " 18%|█▊        | 296/1600 [04:43<24:55,  1.15s/it]"
     ]
    },
    {
     "name": "stdout",
     "output_type": "stream",
     "text": [
      "[Checkpoint] Saved progress at row 10470\n"
     ]
    },
    {
     "name": "stderr",
     "output_type": "stream",
     "text": [
      " 19%|█▊        | 298/1600 [04:45<22:59,  1.06s/it]"
     ]
    },
    {
     "name": "stdout",
     "output_type": "stream",
     "text": [
      "[Skip] 4kctA01 → could not match all parts.\n"
     ]
    },
    {
     "name": "stderr",
     "output_type": "stream",
     "text": [
      " 19%|█▉        | 306/1600 [04:54<24:44,  1.15s/it]"
     ]
    },
    {
     "name": "stdout",
     "output_type": "stream",
     "text": [
      "[Checkpoint] Saved progress at row 10480\n"
     ]
    },
    {
     "name": "stderr",
     "output_type": "stream",
     "text": [
      " 20%|█▉        | 316/1600 [05:03<22:41,  1.06s/it]"
     ]
    },
    {
     "name": "stdout",
     "output_type": "stream",
     "text": [
      "[Checkpoint] Saved progress at row 10490\n"
     ]
    },
    {
     "name": "stderr",
     "output_type": "stream",
     "text": [
      " 20%|██        | 326/1600 [05:13<22:18,  1.05s/it]"
     ]
    },
    {
     "name": "stdout",
     "output_type": "stream",
     "text": [
      "[Checkpoint] Saved progress at row 10500\n"
     ]
    },
    {
     "name": "stderr",
     "output_type": "stream",
     "text": [
      " 21%|██        | 336/1600 [05:22<22:26,  1.07s/it]"
     ]
    },
    {
     "name": "stdout",
     "output_type": "stream",
     "text": [
      "[Checkpoint] Saved progress at row 10510\n"
     ]
    },
    {
     "name": "stderr",
     "output_type": "stream",
     "text": [
      " 22%|██▏       | 346/1600 [05:32<22:50,  1.09s/it]"
     ]
    },
    {
     "name": "stdout",
     "output_type": "stream",
     "text": [
      "[Checkpoint] Saved progress at row 10520\n"
     ]
    },
    {
     "name": "stderr",
     "output_type": "stream",
     "text": [
      " 22%|██▏       | 356/1600 [05:42<23:15,  1.12s/it]"
     ]
    },
    {
     "name": "stdout",
     "output_type": "stream",
     "text": [
      "[Checkpoint] Saved progress at row 10530\n"
     ]
    },
    {
     "name": "stderr",
     "output_type": "stream",
     "text": [
      " 23%|██▎       | 366/1600 [05:51<22:26,  1.09s/it]"
     ]
    },
    {
     "name": "stdout",
     "output_type": "stream",
     "text": [
      "[Checkpoint] Saved progress at row 10540\n"
     ]
    },
    {
     "name": "stderr",
     "output_type": "stream",
     "text": [
      " 24%|██▎       | 376/1600 [06:01<21:46,  1.07s/it]"
     ]
    },
    {
     "name": "stdout",
     "output_type": "stream",
     "text": [
      "[Checkpoint] Saved progress at row 10550\n"
     ]
    },
    {
     "name": "stderr",
     "output_type": "stream",
     "text": [
      " 24%|██▍       | 386/1600 [06:11<23:59,  1.19s/it]"
     ]
    },
    {
     "name": "stdout",
     "output_type": "stream",
     "text": [
      "[Checkpoint] Saved progress at row 10560\n"
     ]
    },
    {
     "name": "stderr",
     "output_type": "stream",
     "text": [
      " 25%|██▍       | 396/1600 [06:22<23:44,  1.18s/it]"
     ]
    },
    {
     "name": "stdout",
     "output_type": "stream",
     "text": [
      "[Checkpoint] Saved progress at row 10570\n"
     ]
    },
    {
     "name": "stderr",
     "output_type": "stream",
     "text": [
      " 25%|██▌       | 406/1600 [06:32<23:56,  1.20s/it]"
     ]
    },
    {
     "name": "stdout",
     "output_type": "stream",
     "text": [
      "[Checkpoint] Saved progress at row 10580\n"
     ]
    },
    {
     "name": "stderr",
     "output_type": "stream",
     "text": [
      " 26%|██▌       | 416/1600 [06:43<22:14,  1.13s/it]"
     ]
    },
    {
     "name": "stdout",
     "output_type": "stream",
     "text": [
      "[Checkpoint] Saved progress at row 10590\n"
     ]
    },
    {
     "name": "stderr",
     "output_type": "stream",
     "text": [
      " 27%|██▋       | 426/1600 [06:53<22:51,  1.17s/it]"
     ]
    },
    {
     "name": "stdout",
     "output_type": "stream",
     "text": [
      "[Checkpoint] Saved progress at row 10600\n"
     ]
    },
    {
     "name": "stderr",
     "output_type": "stream",
     "text": [
      " 27%|██▋       | 436/1600 [07:04<22:56,  1.18s/it]"
     ]
    },
    {
     "name": "stdout",
     "output_type": "stream",
     "text": [
      "[Checkpoint] Saved progress at row 10610\n"
     ]
    },
    {
     "name": "stderr",
     "output_type": "stream",
     "text": [
      " 28%|██▊       | 446/1600 [07:14<21:36,  1.12s/it]"
     ]
    },
    {
     "name": "stdout",
     "output_type": "stream",
     "text": [
      "[Checkpoint] Saved progress at row 10620\n"
     ]
    },
    {
     "name": "stderr",
     "output_type": "stream",
     "text": [
      " 28%|██▊       | 456/1600 [07:24<20:19,  1.07s/it]"
     ]
    },
    {
     "name": "stdout",
     "output_type": "stream",
     "text": [
      "[Checkpoint] Saved progress at row 10630\n"
     ]
    },
    {
     "name": "stderr",
     "output_type": "stream",
     "text": [
      " 29%|██▉       | 466/1600 [07:34<19:53,  1.05s/it]"
     ]
    },
    {
     "name": "stdout",
     "output_type": "stream",
     "text": [
      "[Checkpoint] Saved progress at row 10640\n"
     ]
    },
    {
     "name": "stderr",
     "output_type": "stream",
     "text": [
      " 30%|██▉       | 476/1600 [07:44<19:48,  1.06s/it]"
     ]
    },
    {
     "name": "stdout",
     "output_type": "stream",
     "text": [
      "[Checkpoint] Saved progress at row 10650\n"
     ]
    },
    {
     "name": "stderr",
     "output_type": "stream",
     "text": [
      " 30%|███       | 486/1600 [07:53<20:07,  1.08s/it]"
     ]
    },
    {
     "name": "stdout",
     "output_type": "stream",
     "text": [
      "[Checkpoint] Saved progress at row 10660\n"
     ]
    },
    {
     "name": "stderr",
     "output_type": "stream",
     "text": [
      " 31%|███       | 496/1600 [08:03<19:35,  1.07s/it]"
     ]
    },
    {
     "name": "stdout",
     "output_type": "stream",
     "text": [
      "[Checkpoint] Saved progress at row 10670\n"
     ]
    },
    {
     "name": "stderr",
     "output_type": "stream",
     "text": [
      " 32%|███▏      | 506/1600 [08:13<20:28,  1.12s/it]"
     ]
    },
    {
     "name": "stdout",
     "output_type": "stream",
     "text": [
      "[Checkpoint] Saved progress at row 10680\n"
     ]
    },
    {
     "name": "stderr",
     "output_type": "stream",
     "text": [
      " 32%|███▏      | 516/1600 [08:23<19:49,  1.10s/it]"
     ]
    },
    {
     "name": "stdout",
     "output_type": "stream",
     "text": [
      "[Checkpoint] Saved progress at row 10690\n"
     ]
    },
    {
     "name": "stderr",
     "output_type": "stream",
     "text": [
      " 33%|███▎      | 526/1600 [08:33<19:48,  1.11s/it]"
     ]
    },
    {
     "name": "stdout",
     "output_type": "stream",
     "text": [
      "[Checkpoint] Saved progress at row 10700\n"
     ]
    },
    {
     "name": "stderr",
     "output_type": "stream",
     "text": [
      " 34%|███▎      | 536/1600 [08:42<19:09,  1.08s/it]"
     ]
    },
    {
     "name": "stdout",
     "output_type": "stream",
     "text": [
      "[Checkpoint] Saved progress at row 10710\n"
     ]
    },
    {
     "name": "stderr",
     "output_type": "stream",
     "text": [
      " 34%|███▍      | 546/1600 [08:52<19:16,  1.10s/it]"
     ]
    },
    {
     "name": "stdout",
     "output_type": "stream",
     "text": [
      "[Checkpoint] Saved progress at row 10720\n"
     ]
    },
    {
     "name": "stderr",
     "output_type": "stream",
     "text": [
      " 35%|███▍      | 556/1600 [09:02<19:17,  1.11s/it]"
     ]
    },
    {
     "name": "stdout",
     "output_type": "stream",
     "text": [
      "[Checkpoint] Saved progress at row 10730\n"
     ]
    },
    {
     "name": "stderr",
     "output_type": "stream",
     "text": [
      " 35%|███▌      | 566/1600 [09:11<19:00,  1.10s/it]"
     ]
    },
    {
     "name": "stdout",
     "output_type": "stream",
     "text": [
      "[Checkpoint] Saved progress at row 10740\n"
     ]
    },
    {
     "name": "stderr",
     "output_type": "stream",
     "text": [
      " 36%|███▌      | 576/1600 [09:21<18:52,  1.11s/it]"
     ]
    },
    {
     "name": "stdout",
     "output_type": "stream",
     "text": [
      "[Checkpoint] Saved progress at row 10750\n"
     ]
    },
    {
     "name": "stderr",
     "output_type": "stream",
     "text": [
      " 36%|███▋      | 581/1600 [09:26<15:54,  1.07it/s]"
     ]
    },
    {
     "name": "stdout",
     "output_type": "stream",
     "text": [
      "[Skip] 2x1dA01 → could not match all parts.\n"
     ]
    },
    {
     "name": "stderr",
     "output_type": "stream",
     "text": [
      " 37%|███▋      | 586/1600 [09:30<16:21,  1.03it/s]"
     ]
    },
    {
     "name": "stdout",
     "output_type": "stream",
     "text": [
      "[Skip] 5u81A01 → could not match all parts.\n"
     ]
    },
    {
     "name": "stderr",
     "output_type": "stream",
     "text": [
      " 37%|███▋      | 596/1600 [09:40<17:38,  1.05s/it]"
     ]
    },
    {
     "name": "stdout",
     "output_type": "stream",
     "text": [
      "[Checkpoint] Saved progress at row 10770\n"
     ]
    },
    {
     "name": "stderr",
     "output_type": "stream",
     "text": [
      " 38%|███▊      | 606/1600 [09:49<17:48,  1.07s/it]"
     ]
    },
    {
     "name": "stdout",
     "output_type": "stream",
     "text": [
      "[Checkpoint] Saved progress at row 10780\n"
     ]
    },
    {
     "name": "stderr",
     "output_type": "stream",
     "text": [
      " 38%|███▊      | 616/1600 [09:59<17:27,  1.06s/it]"
     ]
    },
    {
     "name": "stdout",
     "output_type": "stream",
     "text": [
      "[Checkpoint] Saved progress at row 10790\n"
     ]
    },
    {
     "name": "stderr",
     "output_type": "stream",
     "text": [
      " 39%|███▉      | 626/1600 [10:09<18:33,  1.14s/it]"
     ]
    },
    {
     "name": "stdout",
     "output_type": "stream",
     "text": [
      "[Checkpoint] Saved progress at row 10800\n"
     ]
    },
    {
     "name": "stderr",
     "output_type": "stream",
     "text": [
      " 40%|███▉      | 636/1600 [10:19<16:57,  1.06s/it]"
     ]
    },
    {
     "name": "stdout",
     "output_type": "stream",
     "text": [
      "[Checkpoint] Saved progress at row 10810\n"
     ]
    },
    {
     "name": "stderr",
     "output_type": "stream",
     "text": [
      " 40%|████      | 646/1600 [10:28<16:40,  1.05s/it]"
     ]
    },
    {
     "name": "stdout",
     "output_type": "stream",
     "text": [
      "[Checkpoint] Saved progress at row 10820\n"
     ]
    },
    {
     "name": "stderr",
     "output_type": "stream",
     "text": [
      " 41%|████      | 650/1600 [10:32<15:32,  1.02it/s]"
     ]
    },
    {
     "name": "stdout",
     "output_type": "stream",
     "text": [
      "[Skip] 2aafB01 → could not match all parts.\n"
     ]
    },
    {
     "name": "stderr",
     "output_type": "stream",
     "text": [
      " 41%|████      | 656/1600 [10:38<16:36,  1.06s/it]"
     ]
    },
    {
     "name": "stdout",
     "output_type": "stream",
     "text": [
      "[Checkpoint] Saved progress at row 10830\n"
     ]
    },
    {
     "name": "stderr",
     "output_type": "stream",
     "text": [
      " 41%|████▏     | 662/1600 [10:44<14:37,  1.07it/s]"
     ]
    },
    {
     "name": "stdout",
     "output_type": "stream",
     "text": [
      "[Skip] 1s9rA01 → could not match all parts.\n"
     ]
    },
    {
     "name": "stderr",
     "output_type": "stream",
     "text": [
      " 42%|████▏     | 666/1600 [10:48<16:35,  1.07s/it]"
     ]
    },
    {
     "name": "stdout",
     "output_type": "stream",
     "text": [
      "[Checkpoint] Saved progress at row 10840\n"
     ]
    },
    {
     "name": "stderr",
     "output_type": "stream",
     "text": [
      " 42%|████▏     | 676/1600 [10:58<17:19,  1.12s/it]"
     ]
    },
    {
     "name": "stdout",
     "output_type": "stream",
     "text": [
      "[Checkpoint] Saved progress at row 10850\n"
     ]
    },
    {
     "name": "stderr",
     "output_type": "stream",
     "text": [
      " 43%|████▎     | 686/1600 [11:08<16:20,  1.07s/it]"
     ]
    },
    {
     "name": "stdout",
     "output_type": "stream",
     "text": [
      "[Checkpoint] Saved progress at row 10860\n"
     ]
    },
    {
     "name": "stderr",
     "output_type": "stream",
     "text": [
      " 44%|████▎     | 696/1600 [11:18<16:29,  1.09s/it]"
     ]
    },
    {
     "name": "stdout",
     "output_type": "stream",
     "text": [
      "[Checkpoint] Saved progress at row 10870\n"
     ]
    },
    {
     "name": "stderr",
     "output_type": "stream",
     "text": [
      " 44%|████▍     | 706/1600 [11:28<15:57,  1.07s/it]"
     ]
    },
    {
     "name": "stdout",
     "output_type": "stream",
     "text": [
      "[Checkpoint] Saved progress at row 10880\n"
     ]
    },
    {
     "name": "stderr",
     "output_type": "stream",
     "text": [
      " 45%|████▍     | 716/1600 [11:37<15:15,  1.04s/it]"
     ]
    },
    {
     "name": "stdout",
     "output_type": "stream",
     "text": [
      "[Checkpoint] Saved progress at row 10890\n"
     ]
    },
    {
     "name": "stderr",
     "output_type": "stream",
     "text": [
      " 45%|████▌     | 726/1600 [11:47<14:44,  1.01s/it]"
     ]
    },
    {
     "name": "stdout",
     "output_type": "stream",
     "text": [
      "[Checkpoint] Saved progress at row 10900\n"
     ]
    },
    {
     "name": "stderr",
     "output_type": "stream",
     "text": [
      " 46%|████▌     | 736/1600 [11:57<15:25,  1.07s/it]"
     ]
    },
    {
     "name": "stdout",
     "output_type": "stream",
     "text": [
      "[Checkpoint] Saved progress at row 10910\n"
     ]
    },
    {
     "name": "stderr",
     "output_type": "stream",
     "text": [
      " 47%|████▋     | 746/1600 [12:06<15:07,  1.06s/it]"
     ]
    },
    {
     "name": "stdout",
     "output_type": "stream",
     "text": [
      "[Checkpoint] Saved progress at row 10920\n"
     ]
    },
    {
     "name": "stderr",
     "output_type": "stream",
     "text": [
      " 47%|████▋     | 756/1600 [12:15<12:29,  1.13it/s]"
     ]
    },
    {
     "name": "stdout",
     "output_type": "stream",
     "text": [
      "[Skip] 7kz9A01 → could not match all parts.\n"
     ]
    },
    {
     "name": "stderr",
     "output_type": "stream",
     "text": [
      " 48%|████▊     | 764/1600 [12:23<13:27,  1.04it/s]"
     ]
    },
    {
     "name": "stdout",
     "output_type": "stream",
     "text": [
      "[Skip] 7kz9B01 → could not match all parts.\n"
     ]
    },
    {
     "name": "stderr",
     "output_type": "stream",
     "text": [
      " 48%|████▊     | 766/1600 [12:24<13:20,  1.04it/s]"
     ]
    },
    {
     "name": "stdout",
     "output_type": "stream",
     "text": [
      "[Skip] 2o7iA02 → could not match all parts.\n"
     ]
    },
    {
     "name": "stderr",
     "output_type": "stream",
     "text": [
      " 48%|████▊     | 776/1600 [12:34<14:53,  1.08s/it]"
     ]
    },
    {
     "name": "stdout",
     "output_type": "stream",
     "text": [
      "[Checkpoint] Saved progress at row 10950\n"
     ]
    },
    {
     "name": "stderr",
     "output_type": "stream",
     "text": [
      " 49%|████▉     | 786/1600 [12:44<15:03,  1.11s/it]"
     ]
    },
    {
     "name": "stdout",
     "output_type": "stream",
     "text": [
      "[Checkpoint] Saved progress at row 10960\n"
     ]
    },
    {
     "name": "stderr",
     "output_type": "stream",
     "text": [
      " 50%|████▉     | 796/1600 [12:54<14:27,  1.08s/it]"
     ]
    },
    {
     "name": "stdout",
     "output_type": "stream",
     "text": [
      "[Checkpoint] Saved progress at row 10970\n"
     ]
    },
    {
     "name": "stderr",
     "output_type": "stream",
     "text": [
      " 50%|█████     | 806/1600 [13:04<14:30,  1.10s/it]"
     ]
    },
    {
     "name": "stdout",
     "output_type": "stream",
     "text": [
      "[Checkpoint] Saved progress at row 10980\n"
     ]
    },
    {
     "name": "stderr",
     "output_type": "stream",
     "text": [
      " 51%|█████     | 816/1600 [13:14<14:56,  1.14s/it]"
     ]
    },
    {
     "name": "stdout",
     "output_type": "stream",
     "text": [
      "[Checkpoint] Saved progress at row 10990\n"
     ]
    },
    {
     "name": "stderr",
     "output_type": "stream",
     "text": [
      " 51%|█████     | 819/1600 [13:17<13:29,  1.04s/it]"
     ]
    },
    {
     "name": "stdout",
     "output_type": "stream",
     "text": [
      "[Skip] 3ubtA02 → could not match all parts.\n"
     ]
    },
    {
     "name": "stderr",
     "output_type": "stream",
     "text": [
      " 52%|█████▏    | 826/1600 [13:25<15:04,  1.17s/it]"
     ]
    },
    {
     "name": "stdout",
     "output_type": "stream",
     "text": [
      "[Checkpoint] Saved progress at row 11000\n"
     ]
    },
    {
     "name": "stderr",
     "output_type": "stream",
     "text": [
      " 52%|█████▏    | 836/1600 [13:34<12:35,  1.01it/s]"
     ]
    },
    {
     "name": "stdout",
     "output_type": "stream",
     "text": [
      "[Skip] 4dv8A01 → could not match all parts.\n"
     ]
    },
    {
     "name": "stderr",
     "output_type": "stream",
     "text": [
      " 53%|█████▎    | 846/1600 [13:44<13:24,  1.07s/it]"
     ]
    },
    {
     "name": "stdout",
     "output_type": "stream",
     "text": [
      "[Checkpoint] Saved progress at row 11020\n"
     ]
    },
    {
     "name": "stderr",
     "output_type": "stream",
     "text": [
      " 54%|█████▎    | 856/1600 [13:54<14:26,  1.16s/it]"
     ]
    },
    {
     "name": "stdout",
     "output_type": "stream",
     "text": [
      "[Checkpoint] Saved progress at row 11030\n"
     ]
    },
    {
     "name": "stderr",
     "output_type": "stream",
     "text": [
      " 54%|█████▍    | 862/1600 [14:00<12:11,  1.01it/s]"
     ]
    },
    {
     "name": "stdout",
     "output_type": "stream",
     "text": [
      "[Skip] 6qdiA02 → could not match all parts.\n"
     ]
    },
    {
     "name": "stderr",
     "output_type": "stream",
     "text": [
      " 54%|█████▍    | 864/1600 [14:02<11:47,  1.04it/s]"
     ]
    },
    {
     "name": "stdout",
     "output_type": "stream",
     "text": [
      "[Skip] 6qdiA01 → could not match all parts.\n"
     ]
    },
    {
     "name": "stderr",
     "output_type": "stream",
     "text": [
      " 54%|█████▍    | 866/1600 [14:05<14:34,  1.19s/it]"
     ]
    },
    {
     "name": "stdout",
     "output_type": "stream",
     "text": [
      "[Checkpoint] Saved progress at row 11040\n"
     ]
    },
    {
     "name": "stderr",
     "output_type": "stream",
     "text": [
      " 55%|█████▍    | 876/1600 [14:14<12:53,  1.07s/it]"
     ]
    },
    {
     "name": "stdout",
     "output_type": "stream",
     "text": [
      "[Checkpoint] Saved progress at row 11050\n"
     ]
    },
    {
     "name": "stderr",
     "output_type": "stream",
     "text": [
      " 55%|█████▌    | 886/1600 [14:24<12:39,  1.06s/it]"
     ]
    },
    {
     "name": "stdout",
     "output_type": "stream",
     "text": [
      "[Checkpoint] Saved progress at row 11060\n"
     ]
    },
    {
     "name": "stderr",
     "output_type": "stream",
     "text": [
      " 56%|█████▌    | 896/1600 [14:35<13:37,  1.16s/it]"
     ]
    },
    {
     "name": "stdout",
     "output_type": "stream",
     "text": [
      "[Checkpoint] Saved progress at row 11070\n"
     ]
    },
    {
     "name": "stderr",
     "output_type": "stream",
     "text": [
      " 57%|█████▋    | 906/1600 [14:46<13:24,  1.16s/it]"
     ]
    },
    {
     "name": "stdout",
     "output_type": "stream",
     "text": [
      "[Checkpoint] Saved progress at row 11080\n"
     ]
    },
    {
     "name": "stderr",
     "output_type": "stream",
     "text": [
      " 57%|█████▋    | 916/1600 [14:56<12:44,  1.12s/it]"
     ]
    },
    {
     "name": "stdout",
     "output_type": "stream",
     "text": [
      "[Checkpoint] Saved progress at row 11090\n"
     ]
    },
    {
     "name": "stderr",
     "output_type": "stream",
     "text": [
      " 58%|█████▊    | 926/1600 [15:06<11:49,  1.05s/it]"
     ]
    },
    {
     "name": "stdout",
     "output_type": "stream",
     "text": [
      "[Checkpoint] Saved progress at row 11100\n"
     ]
    },
    {
     "name": "stderr",
     "output_type": "stream",
     "text": [
      " 58%|█████▊    | 936/1600 [15:16<11:50,  1.07s/it]"
     ]
    },
    {
     "name": "stdout",
     "output_type": "stream",
     "text": [
      "[Checkpoint] Saved progress at row 11110\n"
     ]
    },
    {
     "name": "stderr",
     "output_type": "stream",
     "text": [
      " 59%|█████▉    | 946/1600 [15:25<11:49,  1.08s/it]"
     ]
    },
    {
     "name": "stdout",
     "output_type": "stream",
     "text": [
      "[Checkpoint] Saved progress at row 11120\n"
     ]
    },
    {
     "name": "stderr",
     "output_type": "stream",
     "text": [
      " 59%|█████▉    | 947/1600 [15:26<11:55,  1.10s/it]"
     ]
    },
    {
     "name": "stdout",
     "output_type": "stream",
     "text": [
      "[Skip] 3dorA03 → could not match all parts.\n"
     ]
    },
    {
     "name": "stderr",
     "output_type": "stream",
     "text": [
      " 59%|█████▉    | 949/1600 [15:28<11:35,  1.07s/it]"
     ]
    },
    {
     "name": "stdout",
     "output_type": "stream",
     "text": [
      "[Skip] 3bf0C03 → could not match all parts.\n"
     ]
    },
    {
     "name": "stderr",
     "output_type": "stream",
     "text": [
      " 59%|█████▉    | 950/1600 [15:30<11:49,  1.09s/it]"
     ]
    },
    {
     "name": "stdout",
     "output_type": "stream",
     "text": [
      "[Skip] 1uyvB02 → could not match all parts.\n"
     ]
    },
    {
     "name": "stderr",
     "output_type": "stream",
     "text": [
      " 60%|█████▉    | 956/1600 [15:35<11:17,  1.05s/it]"
     ]
    },
    {
     "name": "stdout",
     "output_type": "stream",
     "text": [
      "[Checkpoint] Saved progress at row 11130\n"
     ]
    },
    {
     "name": "stderr",
     "output_type": "stream",
     "text": [
      " 60%|██████    | 966/1600 [15:46<11:56,  1.13s/it]"
     ]
    },
    {
     "name": "stdout",
     "output_type": "stream",
     "text": [
      "[Checkpoint] Saved progress at row 11140\n"
     ]
    },
    {
     "name": "stderr",
     "output_type": "stream",
     "text": [
      " 61%|██████    | 976/1600 [15:56<11:38,  1.12s/it]"
     ]
    },
    {
     "name": "stdout",
     "output_type": "stream",
     "text": [
      "[Checkpoint] Saved progress at row 11150\n"
     ]
    },
    {
     "name": "stderr",
     "output_type": "stream",
     "text": [
      " 62%|██████▏   | 986/1600 [16:06<11:47,  1.15s/it]"
     ]
    },
    {
     "name": "stdout",
     "output_type": "stream",
     "text": [
      "[Checkpoint] Saved progress at row 11160\n"
     ]
    },
    {
     "name": "stderr",
     "output_type": "stream",
     "text": [
      " 62%|██████▏   | 996/1600 [16:16<11:00,  1.09s/it]"
     ]
    },
    {
     "name": "stdout",
     "output_type": "stream",
     "text": [
      "[Checkpoint] Saved progress at row 11170\n"
     ]
    },
    {
     "name": "stderr",
     "output_type": "stream",
     "text": [
      " 63%|██████▎   | 1006/1600 [16:25<10:22,  1.05s/it]"
     ]
    },
    {
     "name": "stdout",
     "output_type": "stream",
     "text": [
      "[Checkpoint] Saved progress at row 11180\n"
     ]
    },
    {
     "name": "stderr",
     "output_type": "stream",
     "text": [
      " 64%|██████▎   | 1016/1600 [16:35<10:25,  1.07s/it]"
     ]
    },
    {
     "name": "stdout",
     "output_type": "stream",
     "text": [
      "[Checkpoint] Saved progress at row 11190\n"
     ]
    },
    {
     "name": "stderr",
     "output_type": "stream",
     "text": [
      " 64%|██████▍   | 1020/1600 [16:39<09:59,  1.03s/it]"
     ]
    },
    {
     "name": "stdout",
     "output_type": "stream",
     "text": [
      "[Skip] 2ckfC01 → could not match all parts.\n"
     ]
    },
    {
     "name": "stderr",
     "output_type": "stream",
     "text": [
      " 64%|██████▍   | 1021/1600 [16:40<10:05,  1.05s/it]"
     ]
    },
    {
     "name": "stdout",
     "output_type": "stream",
     "text": [
      "[Skip] 2bmoA01 → could not match all parts.\n"
     ]
    },
    {
     "name": "stderr",
     "output_type": "stream",
     "text": [
      " 64%|██████▍   | 1024/1600 [16:43<09:48,  1.02s/it]"
     ]
    },
    {
     "name": "stdout",
     "output_type": "stream",
     "text": [
      "[Skip] 2de6A01 → could not match all parts.\n"
     ]
    },
    {
     "name": "stderr",
     "output_type": "stream",
     "text": [
      " 64%|██████▍   | 1025/1600 [16:44<09:49,  1.03s/it]"
     ]
    },
    {
     "name": "stdout",
     "output_type": "stream",
     "text": [
      "[Skip] 3vcaA01 → could not match all parts.\n"
     ]
    },
    {
     "name": "stderr",
     "output_type": "stream",
     "text": [
      " 64%|██████▍   | 1026/1600 [16:46<11:14,  1.17s/it]"
     ]
    },
    {
     "name": "stdout",
     "output_type": "stream",
     "text": [
      "[Checkpoint] Saved progress at row 11200\n"
     ]
    },
    {
     "name": "stderr",
     "output_type": "stream",
     "text": [
      " 64%|██████▍   | 1027/1600 [16:47<11:05,  1.16s/it]"
     ]
    },
    {
     "name": "stdout",
     "output_type": "stream",
     "text": [
      "[Skip] 3gzxA01 → could not match all parts.\n"
     ]
    },
    {
     "name": "stderr",
     "output_type": "stream",
     "text": [
      " 64%|██████▍   | 1028/1600 [16:48<10:57,  1.15s/it]"
     ]
    },
    {
     "name": "stdout",
     "output_type": "stream",
     "text": [
      "[Skip] 2b1xA01 → could not match all parts.\n"
     ]
    },
    {
     "name": "stderr",
     "output_type": "stream",
     "text": [
      " 64%|██████▍   | 1029/1600 [16:49<10:28,  1.10s/it]"
     ]
    },
    {
     "name": "stdout",
     "output_type": "stream",
     "text": [
      "[Skip] 1z01A01 → could not match all parts.\n"
     ]
    },
    {
     "name": "stderr",
     "output_type": "stream",
     "text": [
      " 65%|██████▍   | 1033/1600 [16:53<09:36,  1.02s/it]"
     ]
    },
    {
     "name": "stdout",
     "output_type": "stream",
     "text": [
      "[Skip] 3k8kA03 → could not match all parts.\n"
     ]
    },
    {
     "name": "stderr",
     "output_type": "stream",
     "text": [
      " 65%|██████▍   | 1034/1600 [16:54<09:27,  1.00s/it]"
     ]
    },
    {
     "name": "stdout",
     "output_type": "stream",
     "text": [
      "[Skip] 4aeeA04 → could not match all parts.\n"
     ]
    },
    {
     "name": "stderr",
     "output_type": "stream",
     "text": [
      " 65%|██████▍   | 1036/1600 [16:56<09:41,  1.03s/it]"
     ]
    },
    {
     "name": "stdout",
     "output_type": "stream",
     "text": [
      "[Skip] 1g5aA03 → could not match all parts.\n"
     ]
    },
    {
     "name": "stderr",
     "output_type": "stream",
     "text": [
      " 65%|██████▌   | 1046/1600 [17:07<11:10,  1.21s/it]"
     ]
    },
    {
     "name": "stdout",
     "output_type": "stream",
     "text": [
      "[Checkpoint] Saved progress at row 11220\n"
     ]
    },
    {
     "name": "stderr",
     "output_type": "stream",
     "text": [
      " 66%|██████▌   | 1056/1600 [17:17<09:56,  1.10s/it]"
     ]
    },
    {
     "name": "stdout",
     "output_type": "stream",
     "text": [
      "[Checkpoint] Saved progress at row 11230\n"
     ]
    },
    {
     "name": "stderr",
     "output_type": "stream",
     "text": [
      " 67%|██████▋   | 1066/1600 [17:27<09:27,  1.06s/it]"
     ]
    },
    {
     "name": "stdout",
     "output_type": "stream",
     "text": [
      "[Checkpoint] Saved progress at row 11240\n"
     ]
    },
    {
     "name": "stderr",
     "output_type": "stream",
     "text": [
      " 67%|██████▋   | 1070/1600 [17:30<08:40,  1.02it/s]"
     ]
    },
    {
     "name": "stdout",
     "output_type": "stream",
     "text": [
      "[Skip] 7phoB01 → could not match all parts.\n"
     ]
    },
    {
     "name": "stderr",
     "output_type": "stream",
     "text": [
      " 67%|██████▋   | 1076/1600 [17:36<09:42,  1.11s/it]"
     ]
    },
    {
     "name": "stdout",
     "output_type": "stream",
     "text": [
      "[Checkpoint] Saved progress at row 11250\n"
     ]
    },
    {
     "name": "stderr",
     "output_type": "stream",
     "text": [
      " 68%|██████▊   | 1086/1600 [17:46<09:25,  1.10s/it]"
     ]
    },
    {
     "name": "stdout",
     "output_type": "stream",
     "text": [
      "[Checkpoint] Saved progress at row 11260\n"
     ]
    },
    {
     "name": "stderr",
     "output_type": "stream",
     "text": [
      " 68%|██████▊   | 1096/1600 [17:56<09:25,  1.12s/it]"
     ]
    },
    {
     "name": "stdout",
     "output_type": "stream",
     "text": [
      "[Checkpoint] Saved progress at row 11270\n"
     ]
    },
    {
     "name": "stderr",
     "output_type": "stream",
     "text": [
      " 69%|██████▉   | 1106/1600 [18:07<09:07,  1.11s/it]"
     ]
    },
    {
     "name": "stdout",
     "output_type": "stream",
     "text": [
      "[Checkpoint] Saved progress at row 11280\n"
     ]
    },
    {
     "name": "stderr",
     "output_type": "stream",
     "text": [
      " 70%|██████▉   | 1116/1600 [18:17<08:53,  1.10s/it]"
     ]
    },
    {
     "name": "stdout",
     "output_type": "stream",
     "text": [
      "[Checkpoint] Saved progress at row 11290\n"
     ]
    },
    {
     "name": "stderr",
     "output_type": "stream",
     "text": [
      " 70%|███████   | 1126/1600 [18:27<08:57,  1.13s/it]"
     ]
    },
    {
     "name": "stdout",
     "output_type": "stream",
     "text": [
      "[Checkpoint] Saved progress at row 11300\n"
     ]
    },
    {
     "name": "stderr",
     "output_type": "stream",
     "text": [
      " 71%|███████   | 1136/1600 [18:38<08:57,  1.16s/it]"
     ]
    },
    {
     "name": "stdout",
     "output_type": "stream",
     "text": [
      "[Checkpoint] Saved progress at row 11310\n"
     ]
    },
    {
     "name": "stderr",
     "output_type": "stream",
     "text": [
      " 72%|███████▏  | 1146/1600 [18:48<08:22,  1.11s/it]"
     ]
    },
    {
     "name": "stdout",
     "output_type": "stream",
     "text": [
      "[Checkpoint] Saved progress at row 11320\n"
     ]
    },
    {
     "name": "stderr",
     "output_type": "stream",
     "text": [
      " 72%|███████▏  | 1156/1600 [18:58<07:44,  1.05s/it]"
     ]
    },
    {
     "name": "stdout",
     "output_type": "stream",
     "text": [
      "[Checkpoint] Saved progress at row 11330\n"
     ]
    },
    {
     "name": "stderr",
     "output_type": "stream",
     "text": [
      " 73%|███████▎  | 1166/1600 [19:07<07:36,  1.05s/it]"
     ]
    },
    {
     "name": "stdout",
     "output_type": "stream",
     "text": [
      "[Checkpoint] Saved progress at row 11340\n"
     ]
    },
    {
     "name": "stderr",
     "output_type": "stream",
     "text": [
      " 74%|███████▎  | 1176/1600 [19:18<08:00,  1.13s/it]"
     ]
    },
    {
     "name": "stdout",
     "output_type": "stream",
     "text": [
      "[Checkpoint] Saved progress at row 11350\n"
     ]
    },
    {
     "name": "stderr",
     "output_type": "stream",
     "text": [
      " 74%|███████▍  | 1182/1600 [19:24<06:56,  1.00it/s]"
     ]
    },
    {
     "name": "stdout",
     "output_type": "stream",
     "text": [
      "[Skip] 3afhA02 → could not match all parts.\n"
     ]
    },
    {
     "name": "stderr",
     "output_type": "stream",
     "text": [
      " 74%|███████▍  | 1186/1600 [19:28<07:48,  1.13s/it]"
     ]
    },
    {
     "name": "stdout",
     "output_type": "stream",
     "text": [
      "[Checkpoint] Saved progress at row 11360\n"
     ]
    },
    {
     "name": "stderr",
     "output_type": "stream",
     "text": [
      " 75%|███████▍  | 1196/1600 [19:38<07:15,  1.08s/it]"
     ]
    },
    {
     "name": "stdout",
     "output_type": "stream",
     "text": [
      "[Checkpoint] Saved progress at row 11370\n"
     ]
    },
    {
     "name": "stderr",
     "output_type": "stream",
     "text": [
      " 75%|███████▌  | 1206/1600 [19:48<06:53,  1.05s/it]"
     ]
    },
    {
     "name": "stdout",
     "output_type": "stream",
     "text": [
      "[Checkpoint] Saved progress at row 11380\n"
     ]
    },
    {
     "name": "stderr",
     "output_type": "stream",
     "text": [
      " 76%|███████▌  | 1216/1600 [19:57<06:53,  1.08s/it]"
     ]
    },
    {
     "name": "stdout",
     "output_type": "stream",
     "text": [
      "[Checkpoint] Saved progress at row 11390\n"
     ]
    },
    {
     "name": "stderr",
     "output_type": "stream",
     "text": [
      " 77%|███████▋  | 1226/1600 [20:07<06:39,  1.07s/it]"
     ]
    },
    {
     "name": "stdout",
     "output_type": "stream",
     "text": [
      "[Checkpoint] Saved progress at row 11400\n"
     ]
    },
    {
     "name": "stderr",
     "output_type": "stream",
     "text": [
      " 77%|███████▋  | 1236/1600 [20:17<06:24,  1.06s/it]"
     ]
    },
    {
     "name": "stdout",
     "output_type": "stream",
     "text": [
      "[Checkpoint] Saved progress at row 11410\n"
     ]
    },
    {
     "name": "stderr",
     "output_type": "stream",
     "text": [
      " 78%|███████▊  | 1246/1600 [20:26<06:13,  1.05s/it]"
     ]
    },
    {
     "name": "stdout",
     "output_type": "stream",
     "text": [
      "[Checkpoint] Saved progress at row 11420\n"
     ]
    },
    {
     "name": "stderr",
     "output_type": "stream",
     "text": [
      " 78%|███████▊  | 1256/1600 [20:36<06:08,  1.07s/it]"
     ]
    },
    {
     "name": "stdout",
     "output_type": "stream",
     "text": [
      "[Checkpoint] Saved progress at row 11430\n"
     ]
    },
    {
     "name": "stderr",
     "output_type": "stream",
     "text": [
      " 79%|███████▉  | 1266/1600 [20:45<05:45,  1.03s/it]"
     ]
    },
    {
     "name": "stdout",
     "output_type": "stream",
     "text": [
      "[Checkpoint] Saved progress at row 11440\n"
     ]
    },
    {
     "name": "stderr",
     "output_type": "stream",
     "text": [
      " 80%|███████▉  | 1276/1600 [20:55<05:45,  1.07s/it]"
     ]
    },
    {
     "name": "stdout",
     "output_type": "stream",
     "text": [
      "[Checkpoint] Saved progress at row 11450\n"
     ]
    },
    {
     "name": "stderr",
     "output_type": "stream",
     "text": [
      " 80%|████████  | 1286/1600 [21:05<06:04,  1.16s/it]"
     ]
    },
    {
     "name": "stdout",
     "output_type": "stream",
     "text": [
      "[Checkpoint] Saved progress at row 11460\n"
     ]
    },
    {
     "name": "stderr",
     "output_type": "stream",
     "text": [
      " 81%|████████  | 1296/1600 [21:15<05:27,  1.08s/it]"
     ]
    },
    {
     "name": "stdout",
     "output_type": "stream",
     "text": [
      "[Checkpoint] Saved progress at row 11470\n"
     ]
    },
    {
     "name": "stderr",
     "output_type": "stream",
     "text": [
      " 82%|████████▏ | 1306/1600 [21:25<05:34,  1.14s/it]"
     ]
    },
    {
     "name": "stdout",
     "output_type": "stream",
     "text": [
      "[Checkpoint] Saved progress at row 11480\n"
     ]
    },
    {
     "name": "stderr",
     "output_type": "stream",
     "text": [
      " 82%|████████▏ | 1316/1600 [21:36<05:30,  1.16s/it]"
     ]
    },
    {
     "name": "stdout",
     "output_type": "stream",
     "text": [
      "[Checkpoint] Saved progress at row 11490\n"
     ]
    },
    {
     "name": "stderr",
     "output_type": "stream",
     "text": [
      " 83%|████████▎ | 1326/1600 [21:45<04:47,  1.05s/it]"
     ]
    },
    {
     "name": "stdout",
     "output_type": "stream",
     "text": [
      "[Checkpoint] Saved progress at row 11500\n"
     ]
    },
    {
     "name": "stderr",
     "output_type": "stream",
     "text": [
      " 84%|████████▎ | 1336/1600 [21:55<04:49,  1.10s/it]"
     ]
    },
    {
     "name": "stdout",
     "output_type": "stream",
     "text": [
      "[Checkpoint] Saved progress at row 11510\n"
     ]
    },
    {
     "name": "stderr",
     "output_type": "stream",
     "text": [
      " 84%|████████▍ | 1346/1600 [22:05<04:14,  1.00s/it]"
     ]
    },
    {
     "name": "stdout",
     "output_type": "stream",
     "text": [
      "[Checkpoint] Saved progress at row 11520\n"
     ]
    },
    {
     "name": "stderr",
     "output_type": "stream",
     "text": [
      " 85%|████████▍ | 1356/1600 [22:15<04:24,  1.09s/it]"
     ]
    },
    {
     "name": "stdout",
     "output_type": "stream",
     "text": [
      "[Checkpoint] Saved progress at row 11530\n"
     ]
    },
    {
     "name": "stderr",
     "output_type": "stream",
     "text": [
      " 85%|████████▌ | 1366/1600 [22:25<04:23,  1.12s/it]"
     ]
    },
    {
     "name": "stdout",
     "output_type": "stream",
     "text": [
      "[Checkpoint] Saved progress at row 11540\n"
     ]
    },
    {
     "name": "stderr",
     "output_type": "stream",
     "text": [
      " 86%|████████▌ | 1376/1600 [22:35<03:59,  1.07s/it]"
     ]
    },
    {
     "name": "stdout",
     "output_type": "stream",
     "text": [
      "[Checkpoint] Saved progress at row 11550\n"
     ]
    },
    {
     "name": "stderr",
     "output_type": "stream",
     "text": [
      " 87%|████████▋ | 1386/1600 [22:45<04:05,  1.15s/it]"
     ]
    },
    {
     "name": "stdout",
     "output_type": "stream",
     "text": [
      "[Checkpoint] Saved progress at row 11560\n"
     ]
    },
    {
     "name": "stderr",
     "output_type": "stream",
     "text": [
      " 87%|████████▋ | 1396/1600 [22:55<03:55,  1.15s/it]"
     ]
    },
    {
     "name": "stdout",
     "output_type": "stream",
     "text": [
      "[Checkpoint] Saved progress at row 11570\n"
     ]
    },
    {
     "name": "stderr",
     "output_type": "stream",
     "text": [
      " 88%|████████▊ | 1406/1600 [23:05<03:47,  1.17s/it]"
     ]
    },
    {
     "name": "stdout",
     "output_type": "stream",
     "text": [
      "[Checkpoint] Saved progress at row 11580\n"
     ]
    },
    {
     "name": "stderr",
     "output_type": "stream",
     "text": [
      " 88%|████████▊ | 1416/1600 [23:16<03:35,  1.17s/it]"
     ]
    },
    {
     "name": "stdout",
     "output_type": "stream",
     "text": [
      "[Checkpoint] Saved progress at row 11590\n"
     ]
    },
    {
     "name": "stderr",
     "output_type": "stream",
     "text": [
      " 89%|████████▉ | 1426/1600 [23:26<03:08,  1.09s/it]"
     ]
    },
    {
     "name": "stdout",
     "output_type": "stream",
     "text": [
      "[Checkpoint] Saved progress at row 11600\n"
     ]
    },
    {
     "name": "stderr",
     "output_type": "stream",
     "text": [
      " 90%|████████▉ | 1436/1600 [23:36<02:52,  1.05s/it]"
     ]
    },
    {
     "name": "stdout",
     "output_type": "stream",
     "text": [
      "[Checkpoint] Saved progress at row 11610\n"
     ]
    },
    {
     "name": "stderr",
     "output_type": "stream",
     "text": [
      " 90%|█████████ | 1446/1600 [23:46<02:44,  1.07s/it]"
     ]
    },
    {
     "name": "stdout",
     "output_type": "stream",
     "text": [
      "[Checkpoint] Saved progress at row 11620\n"
     ]
    },
    {
     "name": "stderr",
     "output_type": "stream",
     "text": [
      " 92%|█████████▏| 1466/1600 [24:04<02:37,  1.18s/it]"
     ]
    },
    {
     "name": "stdout",
     "output_type": "stream",
     "text": [
      "[Checkpoint] Saved progress at row 11640\n"
     ]
    },
    {
     "name": "stderr",
     "output_type": "stream",
     "text": [
      " 92%|█████████▏| 1476/1600 [24:14<02:20,  1.13s/it]"
     ]
    },
    {
     "name": "stdout",
     "output_type": "stream",
     "text": [
      "[Checkpoint] Saved progress at row 11650\n"
     ]
    },
    {
     "name": "stderr",
     "output_type": "stream",
     "text": [
      " 93%|█████████▎| 1486/1600 [24:24<02:07,  1.12s/it]"
     ]
    },
    {
     "name": "stdout",
     "output_type": "stream",
     "text": [
      "[Checkpoint] Saved progress at row 11660\n"
     ]
    },
    {
     "name": "stderr",
     "output_type": "stream",
     "text": [
      " 94%|█████████▎| 1496/1600 [24:33<01:50,  1.06s/it]"
     ]
    },
    {
     "name": "stdout",
     "output_type": "stream",
     "text": [
      "[Checkpoint] Saved progress at row 11670\n"
     ]
    },
    {
     "name": "stderr",
     "output_type": "stream",
     "text": [
      " 94%|█████████▍| 1506/1600 [24:43<01:41,  1.08s/it]"
     ]
    },
    {
     "name": "stdout",
     "output_type": "stream",
     "text": [
      "[Checkpoint] Saved progress at row 11680\n"
     ]
    },
    {
     "name": "stderr",
     "output_type": "stream",
     "text": [
      " 95%|█████████▍| 1516/1600 [24:53<01:32,  1.11s/it]"
     ]
    },
    {
     "name": "stdout",
     "output_type": "stream",
     "text": [
      "[Checkpoint] Saved progress at row 11690\n"
     ]
    },
    {
     "name": "stderr",
     "output_type": "stream",
     "text": [
      " 95%|█████████▌| 1526/1600 [25:03<01:23,  1.13s/it]"
     ]
    },
    {
     "name": "stdout",
     "output_type": "stream",
     "text": [
      "[Checkpoint] Saved progress at row 11700\n"
     ]
    },
    {
     "name": "stderr",
     "output_type": "stream",
     "text": [
      " 96%|█████████▌| 1536/1600 [25:13<01:09,  1.09s/it]"
     ]
    },
    {
     "name": "stdout",
     "output_type": "stream",
     "text": [
      "[Checkpoint] Saved progress at row 11710\n"
     ]
    },
    {
     "name": "stderr",
     "output_type": "stream",
     "text": [
      " 97%|█████████▋| 1546/1600 [25:23<00:58,  1.09s/it]"
     ]
    },
    {
     "name": "stdout",
     "output_type": "stream",
     "text": [
      "[Checkpoint] Saved progress at row 11720\n"
     ]
    },
    {
     "name": "stderr",
     "output_type": "stream",
     "text": [
      " 97%|█████████▋| 1556/1600 [25:32<00:49,  1.13s/it]"
     ]
    },
    {
     "name": "stdout",
     "output_type": "stream",
     "text": [
      "[Checkpoint] Saved progress at row 11730\n"
     ]
    },
    {
     "name": "stderr",
     "output_type": "stream",
     "text": [
      " 98%|█████████▊| 1566/1600 [25:42<00:37,  1.11s/it]"
     ]
    },
    {
     "name": "stdout",
     "output_type": "stream",
     "text": [
      "[Checkpoint] Saved progress at row 11740\n"
     ]
    },
    {
     "name": "stderr",
     "output_type": "stream",
     "text": [
      " 98%|█████████▊| 1576/1600 [25:52<00:26,  1.11s/it]"
     ]
    },
    {
     "name": "stdout",
     "output_type": "stream",
     "text": [
      "[Checkpoint] Saved progress at row 11750\n"
     ]
    },
    {
     "name": "stderr",
     "output_type": "stream",
     "text": [
      " 99%|█████████▉| 1586/1600 [26:02<00:15,  1.11s/it]"
     ]
    },
    {
     "name": "stdout",
     "output_type": "stream",
     "text": [
      "[Checkpoint] Saved progress at row 11760\n"
     ]
    },
    {
     "name": "stderr",
     "output_type": "stream",
     "text": [
      "100%|█████████▉| 1596/1600 [26:12<00:04,  1.14s/it]"
     ]
    },
    {
     "name": "stdout",
     "output_type": "stream",
     "text": [
      "[Checkpoint] Saved progress at row 11770\n"
     ]
    },
    {
     "name": "stderr",
     "output_type": "stream",
     "text": [
      "100%|██████████| 1600/1600 [26:16<00:00,  1.02it/s]\n"
     ]
    },
    {
     "name": "stdout",
     "output_type": "stream",
     "text": [
      "[Final] Saved full dataframe\n"
     ]
    }
   ],
   "execution_count": 3
  },
  {
   "metadata": {
    "ExecuteTime": {
     "end_time": "2025-06-03T09:23:28.871883Z",
     "start_time": "2025-06-03T09:23:28.483156Z"
    }
   },
   "cell_type": "code",
   "source": [
    "import pandas as pd\n",
    "\n",
    "df = pd.read_csv(\"../data/subset_protein_mapped.csv\")\n",
    "\n",
    "incomplete_mask = df[\"protein_sequence\"].isnull() | df[\"domain_sequence1\"].isnull()\n",
    "incomplete_rows = df[incomplete_mask]\n",
    "problem_ids = incomplete_rows[\"domain_id\"].tolist()\n",
    "print(\"Domain IDs with missing protein_sequence or domain_sequence1:\")\n",
    "for d in problem_ids:\n",
    "    print(d)\n",
    "\n",
    "print(f\"\\nTotal incomplete rows: {len(problem_ids)} out of {len(df)} total rows.\")\n",
    "\n",
    "#df = df[~incomplete_mask]\n",
    "#df.to_csv(\"../data/subset_protein_mapped.csv\", index=False)"
   ],
   "id": "47418ac115bef0d3",
   "outputs": [
    {
     "name": "stdout",
     "output_type": "stream",
     "text": [
      "Domain IDs with missing protein_sequence or domain_sequence1:\n",
      "4u2vA02\n",
      "3hm6X01\n",
      "1werA02\n",
      "1nf1A01\n",
      "3ziuB01\n",
      "6spoA03\n",
      "3fnrA01\n",
      "3ziuA01\n",
      "1gaxA02\n",
      "3bnjA01\n",
      "1oahA01\n",
      "3t6pA01\n",
      "1vw4900\n",
      "1vw4501\n",
      "2a01C01\n",
      "1khdA01\n",
      "4eadA01\n",
      "5noeA01\n",
      "2qtlA01\n",
      "1f20A02\n",
      "2bpoA02\n",
      "4kbqD00\n",
      "7zo9A01\n",
      "7bi4A01\n",
      "8amzQ01\n",
      "1v1hB00\n",
      "6e56D01\n",
      "1n8zC04\n",
      "2b39A06\n",
      "2d1sA01\n",
      "1rfeA01\n",
      "3b5mA01\n",
      "2ausA01\n",
      "1rcqA01\n",
      "5x7nB01\n",
      "2nvaA01\n",
      "2vd8A01\n",
      "2yxxA01\n",
      "5gjoB01\n",
      "4eclA01\n",
      "4beuA01\n",
      "1knwA01\n",
      "1d7kB01\n",
      "5zl6A01\n",
      "5fagA01\n",
      "3n29B01\n",
      "4aibA01\n",
      "2pljA01\n",
      "4lusB01\n",
      "2j66A01\n",
      "7odcA01\n",
      "3n2bD01\n",
      "3n2oC01\n",
      "1pfzA02\n",
      "5bnzA04\n",
      "2hz7A04\n",
      "4en2A02\n",
      "1u0tA02\n",
      "4k35A02\n",
      "4pvaA00\n",
      "3pijA01\n",
      "5hp6A01\n",
      "3ugfA01\n",
      "8fm5A01\n",
      "1vzrA01\n",
      "3au4A02\n",
      "2grvC03\n",
      "6l4lA01\n",
      "4k8lA01\n",
      "4dunA01\n",
      "2gkeA01\n",
      "4jbdA01\n",
      "2otnB01\n",
      "6hjfB01\n",
      "3ednA01\n",
      "5k87A01\n",
      "2gkeA02\n",
      "6lpnA01\n",
      "5yuyA01\n",
      "3u27A01\n",
      "4hubG01\n",
      "1vx4q01\n",
      "7uwrA02\n",
      "6l3mB01\n",
      "7s6dB02\n",
      "1vw4502\n",
      "4wweA01\n",
      "3o58A01\n",
      "3lltA01\n",
      "2fstX01\n",
      "7si1A01\n",
      "6ks6B02\n",
      "6ks6e02\n",
      "8bm1K01\n",
      "7d5mA01\n",
      "3btvA02\n",
      "3db2B02\n",
      "2ixaA02\n",
      "7xr9E01\n",
      "3dtyB02\n",
      "1lc0A02\n",
      "1vw4700\n",
      "1l0wA02\n",
      "1v4pC01\n",
      "1tkeA02\n",
      "2ztgA04\n",
      "7qh7701\n",
      "4bt2A01\n",
      "1xv2C01\n",
      "4pabA03\n",
      "2gagC01\n",
      "1pj5A03\n",
      "1v5vA01\n",
      "3girA01\n",
      "4dx5A04\n",
      "7whfC01\n",
      "1ti2A02\n",
      "3uykA01\n",
      "2qzsA01\n",
      "8inpA01\n",
      "2iuyA01\n",
      "4x7rA01\n",
      "1f0kA01\n",
      "3ia7A01\n",
      "3t7dA01\n",
      "2iw1A01\n",
      "3s5jA02\n",
      "1u0tB01\n",
      "3pfnD01\n",
      "1z0sA01\n",
      "1y3iA01\n",
      "3s40A01\n",
      "1yt5A01\n",
      "2i2cA01\n",
      "2bonA01\n",
      "3afoB01\n",
      "1u0tA01\n",
      "7r4lA01\n",
      "2an1D01\n",
      "4werA01\n",
      "6cngA01\n",
      "3jr7A01\n",
      "1pzxB01\n",
      "1oi2A01\n",
      "3pl5A01\n",
      "6spcb01\n",
      "2e5lB01\n",
      "7o0aD01\n",
      "2amlB01\n",
      "4bb9A02\n",
      "7ntgA01\n",
      "2yimA01\n",
      "1x74A01\n",
      "1q7eA01\n",
      "1xk7A01\n",
      "4ed9A01\n",
      "8edjA01\n",
      "1ti2A03\n",
      "5kf6B02\n",
      "2uvaJ10\n",
      "6fkuA01\n",
      "4c3sA01\n",
      "3v4cB01\n",
      "6jqlA01\n",
      "7w5kA01\n",
      "3r64A01\n",
      "3pqaB01\n",
      "3ju8A01\n",
      "1o04A01\n",
      "8dr9A01\n",
      "4jbeB01\n",
      "4o6rA01\n",
      "3szaA01\n",
      "4ogdA01\n",
      "3k2wD01\n",
      "5ekcF01\n",
      "5qr1A01\n",
      "5yuyA02\n",
      "3o58D00\n",
      "4kctA01\n",
      "2x1dA01\n",
      "5u81A01\n",
      "2aafB01\n",
      "1s9rA01\n",
      "7kz9A01\n",
      "7kz9B01\n",
      "2o7iA02\n",
      "3ubtA02\n",
      "4dv8A01\n",
      "6qdiA02\n",
      "6qdiA01\n",
      "3dorA03\n",
      "3bf0C03\n",
      "1uyvB02\n",
      "1vw4102\n",
      "2ckfC01\n",
      "2bmoA01\n",
      "2de6A01\n",
      "3vcaA01\n",
      "3gzxA01\n",
      "2b1xA01\n",
      "1z01A01\n",
      "3k8kA03\n",
      "4aeeA04\n",
      "1g5aA03\n",
      "7phoB01\n",
      "3afhA02\n",
      "1vs9F02\n",
      "1vw4K00\n",
      "1vw4H00\n",
      "3o58Y02\n",
      "4a17N00\n",
      "\n",
      "Total incomplete rows: 212 out of 11774 total rows.\n"
     ]
    }
   ],
   "execution_count": 5
  },
  {
   "metadata": {},
   "cell_type": "markdown",
   "source": [
    "To be fixed:\n",
    "\n",
    "* 4u2vA02\n",
    "* 3hm6X01\n",
    "* 1werA02\n",
    "* 1nf1A01\n",
    "* 3ziuB01\n",
    "* 6spoA03\n",
    "* 3fnrA01\n",
    "* 3ziuA01\n",
    "* 1gaxA02\n",
    "* 3bnjA01\n",
    "* 1oahA01\n",
    "* 3t6pA01\n",
    "* 1vw4900\n",
    "* 1vw4501\n",
    "* 2a01C01\n",
    "* 1khdA01\n",
    "* 4eadA01\n",
    "* 5noeA01\n",
    "* 2qtlA01\n",
    "* 1f20A02\n",
    "* 2bpoA02\n",
    "* 4kbqD00\n",
    "* 7zo9A01\n",
    "* 7bi4A01\n",
    "* 8amzQ01\n",
    "* 1v1hB00\n",
    "* 6e56D01\n",
    "* 1n8zC04\n",
    "* 2b39A06\n",
    "* 2d1sA01\n",
    "* 1rfeA01\n",
    "* 3b5mA01\n",
    "* 2ausA01\n",
    "* 1rcqA01\n",
    "* 5x7nB01\n",
    "* 2nvaA01\n",
    "* 2vd8A01\n",
    "* 2yxxA01\n",
    "* 5gjoB01\n",
    "* 4eclA01\n",
    "* 4beuA01\n",
    "* 1knwA01\n",
    "* 1d7kB01\n",
    "* 5zl6A01\n",
    "* 5fagA01\n",
    "* 3n29B01\n",
    "* 4aibA01\n",
    "* 2pljA01\n",
    "* 4lusB01\n",
    "* 2j66A01\n",
    "* 7odcA01\n",
    "* 3n2bD01\n",
    "* 3n2oC01\n",
    "* 1pfzA02\n",
    "* 5bnzA04\n",
    "* 2hz7A04\n",
    "* 4en2A02\n",
    "* 1u0tA02\n",
    "* 4k35A02\n",
    "* 4pvaA00\n",
    "* 3pijA01\n",
    "* 5hp6A01\n",
    "* 3ugfA01\n",
    "* 8fm5A01\n",
    "* 1vzrA01\n",
    "* 3au4A02\n",
    "* 2grvC03\n",
    "* 6l4lA01\n",
    "* 4k8lA01\n",
    "* 4dunA01\n",
    "* 2gkeA01\n",
    "* 4jbdA01\n",
    "* 2otnB01\n",
    "* 6hjfB01\n",
    "* 3ednA01\n",
    "* 5k87A01\n",
    "* 2gkeA02\n",
    "* 6lpnA01\n",
    "* 5yuyA01\n",
    "* 3u27A01\n",
    "* 4hubG01\n",
    "* 1vx4q01\n",
    "* 7uwrA02\n",
    "* 6l3mB01\n",
    "* 7s6dB02\n",
    "* 1vw4502\n",
    "* 4wweA01\n",
    "* 3o58A01\n",
    "* 3lltA01\n",
    "* 2fstX01\n",
    "* 7si1A01\n",
    "* 6ks6B02\n",
    "* 6ks6e02\n",
    "* 8bm1K01\n",
    "* 7d5mA01\n",
    "* 3btvA02\n",
    "* 3db2B02\n",
    "* 2ixaA02\n",
    "* 7xr9E01\n",
    "* 3dtyB02\n",
    "* 1lc0A02\n",
    "* 1vw4700\n",
    "* 1l0wA02\n",
    "* 1v4pC01\n",
    "* 1tkeA02\n",
    "* 2ztgA04\n",
    "* 7qh7701\n",
    "* 4bt2A01\n",
    "* 1xv2C01\n",
    "* 4pabA03\n",
    "* 2gagC01\n",
    "* 1pj5A03\n",
    "* 1v5vA01\n",
    "* 3girA01\n",
    "* 4dx5A04\n",
    "* 7whfC01\n",
    "* 1ti2A02\n",
    "* 3uykA01\n",
    "* 2qzsA01\n",
    "* 8inpA01\n",
    "* 2iuyA01\n",
    "* 4x7rA01\n",
    "* 1f0kA01\n",
    "* 3ia7A01\n",
    "* 3t7dA01\n",
    "* 2iw1A01\n",
    "* 3s5jA02\n",
    "* 1u0tB01\n",
    "* 3pfnD01\n",
    "* 1z0sA01\n",
    "* 1y3iA01\n",
    "* 3s40A01\n",
    "* 1yt5A01\n",
    "* 2i2cA01\n",
    "* 2bonA01\n",
    "* 3afoB01\n",
    "* 1u0tA01\n",
    "* 7r4lA01\n",
    "* 2an1D01\n",
    "* 4werA01\n",
    "* 6cngA01\n",
    "* 3jr7A01\n",
    "* 1pzxB01\n",
    "* 1oi2A01\n",
    "* 3pl5A01\n",
    "* 6spcb01\n",
    "* 2e5lB01\n",
    "* 7o0aD01\n",
    "* 2amlB01\n",
    "* 4bb9A02\n",
    "* 7ntgA01\n",
    "* 2yimA01\n",
    "* 1x74A01\n",
    "* 1q7eA01\n",
    "* 1xk7A01\n",
    "* 4ed9A01\n",
    "* 8edjA01\n",
    "* 1ti2A03\n",
    "* 5kf6B02\n",
    "* 2uvaJ10\n",
    "* 6fkuA01\n",
    "* 4c3sA01\n",
    "* 3v4cB01\n",
    "* 6jqlA01\n",
    "* 7w5kA01\n",
    "* 3r64A01\n",
    "* 3pqaB01\n",
    "* 3ju8A01\n",
    "* 1o04A01\n",
    "* 8dr9A01\n",
    "* 4jbeB01\n",
    "* 4o6rA01\n",
    "* 3szaA01\n",
    "* 4ogdA01\n",
    "* 3k2wD01\n",
    "* 5ekcF01\n",
    "* 5qr1A01\n",
    "* 5yuyA02\n",
    "* 3o58D00\n",
    "* 4kctA01\n",
    "* 2x1dA01\n",
    "* 5u81A01\n",
    "* 2aafB01\n",
    "* 1s9rA01\n",
    "* 7kz9A01\n",
    "* 7kz9B01\n",
    "* 2o7iA02\n",
    "* 3ubtA02\n",
    "* 4dv8A01\n",
    "* 6qdiA02\n",
    "* 6qdiA01\n",
    "* 3dorA03\n",
    "* 3bf0C03\n",
    "* 1uyvB02\n",
    "* 1vw4102\n",
    "* 2ckfC01\n",
    "* 2bmoA01\n",
    "* 2de6A01\n",
    "* 3vcaA01\n",
    "* 3gzxA01\n",
    "* 2b1xA01\n",
    "* 1z01A01\n",
    "* 3k8kA03\n",
    "* 4aeeA04\n",
    "* 1g5aA03\n",
    "* 7phoB01\n",
    "* 3afhA02\n",
    "* 1vs9F02\n",
    "* 1vw4K00\n",
    "* 1vw4H00\n",
    "* 3o58Y02\n",
    "* 4a17N00"
   ],
   "id": "7fe11c83040c26cd"
  }
 ],
 "metadata": {
  "kernelspec": {
   "display_name": "Python 3",
   "language": "python",
   "name": "python3"
  },
  "language_info": {
   "codemirror_mode": {
    "name": "ipython",
    "version": 2
   },
   "file_extension": ".py",
   "mimetype": "text/x-python",
   "name": "python",
   "nbconvert_exporter": "python",
   "pygments_lexer": "ipython2",
   "version": "2.7.6"
  }
 },
 "nbformat": 4,
 "nbformat_minor": 5
}
