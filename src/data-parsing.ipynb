{
 "cells": [
  {
   "cell_type": "code",
   "id": "initial_id",
   "metadata": {
    "collapsed": true,
    "ExecuteTime": {
     "end_time": "2025-05-12T15:07:16.077331Z",
     "start_time": "2025-05-12T15:07:13.609215Z"
    }
   },
   "source": [
    "import pandas as pd\n",
    "\n",
    "# Path to the file\n",
    "file_path = \"../data/cath-domain-list.txt\"\n",
    "\n",
    "# Correct column names as per your description\n",
    "columns = [\n",
    "    \"domain_id\",     # 1: CATH domain name\n",
    "    \"class\",         # 2: Class number (C-level)\n",
    "    \"architecture\",  # 3: Architecture number (A-level)\n",
    "    \"topology\",      # 4: Topology number (T-level)\n",
    "    \"homology\",      # 5: Homologous superfamily number (H-level)\n",
    "    \"s35\",           # 6: S35 sequence cluster number\n",
    "    \"s60\",           # 7: S60 sequence cluster number\n",
    "    \"s95\",           # 8: S95 sequence cluster number\n",
    "    \"s100\",          # 9: S100 sequence cluster number\n",
    "    \"s100_count\",    # 10: S100 sequence count\n",
    "    \"length\",        # 11: Domain length\n",
    "    \"resolution\"     # 12: Structure resolution (in Å)\n",
    "]\n",
    "\n",
    "# Read and filter file (skip comment lines)\n",
    "with open(file_path, 'r') as f:\n",
    "    lines = [line.strip() for line in f if not line.startswith('#') and line.strip()]\n",
    "\n",
    "# Split each line into columns\n",
    "data = [line.split() for line in lines]\n",
    "\n",
    "# Create the DataFrame\n",
    "df = pd.DataFrame(data, columns=columns)\n",
    "\n",
    "# Convert numeric columns (everything except domain_id) to appropriate numeric types\n",
    "for col in columns[1:]:  # Skip 'domain_id' which is a string\n",
    "    df[col] = pd.to_numeric(df[col], errors='coerce')"
   ],
   "outputs": [],
   "execution_count": 10
  },
  {
   "metadata": {
    "ExecuteTime": {
     "end_time": "2025-05-12T15:07:19.403144Z",
     "start_time": "2025-05-12T15:07:16.078409Z"
    }
   },
   "cell_type": "code",
   "source": [
    "from Bio import SeqIO\n",
    "import pandas as pd\n",
    "\n",
    "# Load sequences from the FASTA file\n",
    "sequences = list(SeqIO.parse(\"../data/cath-domain-seqs.fa.txt\", \"fasta\"))\n",
    "\n",
    "# Create a DataFrame from the sequences\n",
    "seq_data = []\n",
    "for record in sequences:\n",
    "    # Extract the domain ID from the sequence ID\n",
    "    # Format appears to be \"cath|C_A_T|domainID/range\"\n",
    "    id_parts = record.id.split('|')\n",
    "    if len(id_parts) >= 3:\n",
    "        # Extract just the domain ID portion (removing any range information)\n",
    "        domain_id = id_parts[2].split('/')[0]\n",
    "        \n",
    "        # Add to our data\n",
    "        seq_data.append({\n",
    "            'domain_id': domain_id,\n",
    "            'sequence': str(record.seq),\n",
    "        })\n",
    "\n",
    "# Create DataFrame from sequence data\n",
    "seq_df = pd.DataFrame(seq_data)\n",
    "\n",
    "# Now merge with the original DataFrame\n",
    "merged_df = pd.merge(df, seq_df, on='domain_id', how='inner')"
   ],
   "id": "9b291952be9f2eb5",
   "outputs": [],
   "execution_count": 11
  },
  {
   "metadata": {
    "ExecuteTime": {
     "end_time": "2025-05-12T15:07:21.636958Z",
     "start_time": "2025-05-12T15:07:19.404223Z"
    }
   },
   "cell_type": "code",
   "source": "merged_df.to_csv(\"../data/domains-and-seqs-merged.csv\", index=False)",
   "id": "ac87a07691be03c4",
   "outputs": [],
   "execution_count": 12
  }
 ],
 "metadata": {
  "kernelspec": {
   "display_name": "Python 3",
   "language": "python",
   "name": "python3"
  },
  "language_info": {
   "codemirror_mode": {
    "name": "ipython",
    "version": 2
   },
   "file_extension": ".py",
   "mimetype": "text/x-python",
   "name": "python",
   "nbconvert_exporter": "python",
   "pygments_lexer": "ipython2",
   "version": "2.7.6"
  }
 },
 "nbformat": 4,
 "nbformat_minor": 5
}
