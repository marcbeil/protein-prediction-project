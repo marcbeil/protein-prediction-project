{
 "cells": [
  {
   "cell_type": "code",
   "id": "initial_id",
   "metadata": {
    "collapsed": true,
    "ExecuteTime": {
     "end_time": "2025-05-27T13:45:33.974481Z",
     "start_time": "2025-05-27T13:45:33.836387Z"
    }
   },
   "source": [
    "import pandas as pd\n",
    "import os\n",
    "import matplotlib.pyplot as plt\n",
    "import seaborn as sns\n",
    "from sklearn.metrics import confusion_matrix, accuracy_score, precision_score, recall_score, f1_score, classification_report\n",
    "\n",
    "# Define the path to your prediction parquet file\n",
    "output_path = \"../data/datasets/output\"  # Adjusted path\n",
    "parquet_file = os.path.join(output_path, 'model_prediction.parquet')\n",
    "\n",
    "# Load the DataFrame from the Parquet file\n",
    "try:\n",
    "    df_pred = pd.read_parquet(parquet_file)\n",
    "except FileNotFoundError:\n",
    "    print(f\"Error: File not found at {parquet_file}\")\n",
    "    df_pred = None\n",
    "\n",
    "if df_pred is not None:\n",
    "    y_true = df_pred['target']\n",
    "    y_pred = df_pred['prediction']\n",
    "    class_names_numerical = sorted(y_true.unique())\n",
    "    class_names_str = [str(c) for c in class_names_numerical]\n",
    "\n",
    "    # --- 1. Confusion Matrix ---\n",
    "    cm = confusion_matrix(y_true, y_pred)\n",
    "    print(\"Confusion Matrix:\")\n",
    "    print(cm)\n",
    "    plt.figure(figsize=(8, 6))\n",
    "    sns.heatmap(cm, annot=True, fmt='d', cmap='Blues',\n",
    "                xticklabels=class_names_str, yticklabels=class_names_str)\n",
    "    plt.xlabel('Predicted Class')\n",
    "    plt.ylabel('True Class')\n",
    "    plt.title('Confusion Matrix')\n",
    "    plt.show()\n",
    "    print(\"\\n\")\n",
    "\n",
    "    # --- 2. Rates (TP, FP, TN, FN) per class ---\n",
    "    print(\"Rates per class:\")\n",
    "    for i, class_name in enumerate(class_names_numerical):\n",
    "        tp = cm[i, i]\n",
    "        fp = cm[:, i].sum() - tp\n",
    "        fn = cm[i, :].sum() - tp\n",
    "        tn = cm.sum() - tp - fp - fn\n",
    "        print(f\"Class: {class_name}\")\n",
    "        print(f\"  True Positive (TP): {tp}\")\n",
    "        print(f\"  False Positive (FP): {fp}\")\n",
    "        print(f\"  False Negative (FN): {fn}\")\n",
    "        print(f\"  True Negative (TN): {tn}\")\n",
    "        print()\n",
    "    print(\"\\n\")\n",
    "\n",
    "    # --- 3. Accuracy, Precision, Recall, F1-Score (overall and per class) ---\n",
    "    accuracy = accuracy_score(y_true, y_pred)\n",
    "    print(f\"Overall Accuracy: {accuracy:.4f}\")\n",
    "    print(\"\\n\")\n",
    "\n",
    "    print(\"Precision, Recall, F1-Score per class:\")\n",
    "    print(classification_report(y_true, y_pred, target_names=class_names_str))\n",
    "    print(\"\\n\")\n",
    "\n",
    "    # --- 4. Stacked Bar Chart (Distribution of Predictions per True Class) ---\n",
    "    prediction_counts = df_pred.groupby('target')['prediction'].value_counts(normalize=True).unstack().fillna(0)\n",
    "    plt.figure(figsize=(10, 6))\n",
    "    prediction_counts.plot(kind='bar', stacked=True)\n",
    "    plt.title('Distribution of Predicted Classes for Each True Class')\n",
    "    plt.xlabel('True Class')\n",
    "    plt.ylabel('Proportion of Predictions')\n",
    "    plt.gca().set_xticklabels(class_names_str, rotation=0)\n",
    "    plt.legend(title='Predicted Class')\n",
    "    plt.grid(axis='y')\n",
    "    plt.tight_layout()\n",
    "    plt.show()"
   ],
   "outputs": [
    {
     "name": "stdout",
     "output_type": "stream",
     "text": [
      "Confusion Matrix:\n",
      "[[ 0  0  0  0]\n",
      " [41  0  1  0]\n",
      " [ 0 41  1  0]\n",
      " [ 0  0 41  0]]\n"
     ]
    },
    {
     "data": {
      "text/plain": [
       "<Figure size 800x600 with 2 Axes>"
      ],
      "image/png": "[encoded data removed]"
     },
     "metadata": {},
     "output_type": "display_data"
    },
    {
     "name": "stdout",
     "output_type": "stream",
     "text": [
      "\n",
      "\n",
      "Rates per class:\n",
      "Class: 1\n",
      "  True Positive (TP): 0\n",
      "  False Positive (FP): 41\n",
      "  False Negative (FN): 0\n",
      "  True Negative (TN): 84\n",
      "\n",
      "Class: 2\n",
      "  True Positive (TP): 0\n",
      "  False Positive (FP): 41\n",
      "  False Negative (FN): 42\n",
      "  True Negative (TN): 42\n",
      "\n",
      "Class: 3\n",
      "  True Positive (TP): 1\n",
      "  False Positive (FP): 42\n",
      "  False Negative (FN): 41\n",
      "  True Negative (TN): 41\n",
      "\n",
      "\n",
      "\n",
      "Overall Accuracy: 0.0080\n",
      "\n",
      "\n",
      "Precision, Recall, F1-Score per class:\n"
     ]
    },
    {
     "ename": "ValueError",
     "evalue": "Number of classes, 4, does not match size of target_names, 3. Try specifying the labels parameter",
     "output_type": "error",
     "traceback": [
      "\u001B[31m---------------------------------------------------------------------------\u001B[39m",
      "\u001B[31mValueError\u001B[39m                                Traceback (most recent call last)",
      "\u001B[36mCell\u001B[39m\u001B[36m \u001B[39m\u001B[32mIn[3]\u001B[39m\u001B[32m, line 58\u001B[39m\n\u001B[32m     55\u001B[39m \u001B[38;5;28mprint\u001B[39m(\u001B[33m\"\u001B[39m\u001B[38;5;130;01m\\n\u001B[39;00m\u001B[33m\"\u001B[39m)\n\u001B[32m     57\u001B[39m \u001B[38;5;28mprint\u001B[39m(\u001B[33m\"\u001B[39m\u001B[33mPrecision, Recall, F1-Score per class:\u001B[39m\u001B[33m\"\u001B[39m)\n\u001B[32m---> \u001B[39m\u001B[32m58\u001B[39m \u001B[38;5;28mprint\u001B[39m(classification_report(y_true, y_pred, target_names=class_names_str))\n\u001B[32m     59\u001B[39m \u001B[38;5;28mprint\u001B[39m(\u001B[33m\"\u001B[39m\u001B[38;5;130;01m\\n\u001B[39;00m\u001B[33m\"\u001B[39m)\n\u001B[32m     61\u001B[39m \u001B[38;5;66;03m# --- 4. Stacked Bar Chart (Distribution of Predictions per True Class) ---\u001B[39;00m\n",
      "\u001B[36mFile \u001B[39m\u001B[32m/opt/homebrew/anaconda3/envs/protein-prediction/lib/python3.12/site-packages/sklearn/utils/_param_validation.py:216\u001B[39m, in \u001B[36mvalidate_params.<locals>.decorator.<locals>.wrapper\u001B[39m\u001B[34m(*args, **kwargs)\u001B[39m\n\u001B[32m    210\u001B[39m \u001B[38;5;28;01mtry\u001B[39;00m:\n\u001B[32m    211\u001B[39m     \u001B[38;5;28;01mwith\u001B[39;00m config_context(\n\u001B[32m    212\u001B[39m         skip_parameter_validation=(\n\u001B[32m    213\u001B[39m             prefer_skip_nested_validation \u001B[38;5;129;01mor\u001B[39;00m global_skip_validation\n\u001B[32m    214\u001B[39m         )\n\u001B[32m    215\u001B[39m     ):\n\u001B[32m--> \u001B[39m\u001B[32m216\u001B[39m         \u001B[38;5;28;01mreturn\u001B[39;00m func(*args, **kwargs)\n\u001B[32m    217\u001B[39m \u001B[38;5;28;01mexcept\u001B[39;00m InvalidParameterError \u001B[38;5;28;01mas\u001B[39;00m e:\n\u001B[32m    218\u001B[39m     \u001B[38;5;66;03m# When the function is just a wrapper around an estimator, we allow\u001B[39;00m\n\u001B[32m    219\u001B[39m     \u001B[38;5;66;03m# the function to delegate validation to the estimator, but we replace\u001B[39;00m\n\u001B[32m    220\u001B[39m     \u001B[38;5;66;03m# the name of the estimator by the name of the function in the error\u001B[39;00m\n\u001B[32m    221\u001B[39m     \u001B[38;5;66;03m# message to avoid confusion.\u001B[39;00m\n\u001B[32m    222\u001B[39m     msg = re.sub(\n\u001B[32m    223\u001B[39m         \u001B[33mr\u001B[39m\u001B[33m\"\u001B[39m\u001B[33mparameter of \u001B[39m\u001B[33m\\\u001B[39m\u001B[33mw+ must be\u001B[39m\u001B[33m\"\u001B[39m,\n\u001B[32m    224\u001B[39m         \u001B[33mf\u001B[39m\u001B[33m\"\u001B[39m\u001B[33mparameter of \u001B[39m\u001B[38;5;132;01m{\u001B[39;00mfunc.\u001B[34m__qualname__\u001B[39m\u001B[38;5;132;01m}\u001B[39;00m\u001B[33m must be\u001B[39m\u001B[33m\"\u001B[39m,\n\u001B[32m    225\u001B[39m         \u001B[38;5;28mstr\u001B[39m(e),\n\u001B[32m    226\u001B[39m     )\n",
      "\u001B[36mFile \u001B[39m\u001B[32m/opt/homebrew/anaconda3/envs/protein-prediction/lib/python3.12/site-packages/sklearn/metrics/_classification.py:2693\u001B[39m, in \u001B[36mclassification_report\u001B[39m\u001B[34m(y_true, y_pred, labels, target_names, sample_weight, digits, output_dict, zero_division)\u001B[39m\n\u001B[32m   2687\u001B[39m         warnings.warn(\n\u001B[32m   2688\u001B[39m             \u001B[33m\"\u001B[39m\u001B[33mlabels size, \u001B[39m\u001B[38;5;132;01m{0}\u001B[39;00m\u001B[33m, does not match size of target_names, \u001B[39m\u001B[38;5;132;01m{1}\u001B[39;00m\u001B[33m\"\u001B[39m.format(\n\u001B[32m   2689\u001B[39m                 \u001B[38;5;28mlen\u001B[39m(labels), \u001B[38;5;28mlen\u001B[39m(target_names)\n\u001B[32m   2690\u001B[39m             )\n\u001B[32m   2691\u001B[39m         )\n\u001B[32m   2692\u001B[39m     \u001B[38;5;28;01melse\u001B[39;00m:\n\u001B[32m-> \u001B[39m\u001B[32m2693\u001B[39m         \u001B[38;5;28;01mraise\u001B[39;00m \u001B[38;5;167;01mValueError\u001B[39;00m(\n\u001B[32m   2694\u001B[39m             \u001B[33m\"\u001B[39m\u001B[33mNumber of classes, \u001B[39m\u001B[38;5;132;01m{0}\u001B[39;00m\u001B[33m, does not match size of \u001B[39m\u001B[33m\"\u001B[39m\n\u001B[32m   2695\u001B[39m             \u001B[33m\"\u001B[39m\u001B[33mtarget_names, \u001B[39m\u001B[38;5;132;01m{1}\u001B[39;00m\u001B[33m. Try specifying the labels \u001B[39m\u001B[33m\"\u001B[39m\n\u001B[32m   2696\u001B[39m             \u001B[33m\"\u001B[39m\u001B[33mparameter\u001B[39m\u001B[33m\"\u001B[39m.format(\u001B[38;5;28mlen\u001B[39m(labels), \u001B[38;5;28mlen\u001B[39m(target_names))\n\u001B[32m   2697\u001B[39m         )\n\u001B[32m   2698\u001B[39m \u001B[38;5;28;01mif\u001B[39;00m target_names \u001B[38;5;129;01mis\u001B[39;00m \u001B[38;5;28;01mNone\u001B[39;00m:\n\u001B[32m   2699\u001B[39m     target_names = [\u001B[33m\"\u001B[39m\u001B[38;5;132;01m%s\u001B[39;00m\u001B[33m\"\u001B[39m % l \u001B[38;5;28;01mfor\u001B[39;00m l \u001B[38;5;129;01min\u001B[39;00m labels]\n",
      "\u001B[31mValueError\u001B[39m: Number of classes, 4, does not match size of target_names, 3. Try specifying the labels parameter"
     ]
    }
   ],
   "execution_count": 3
  },
  {
   "metadata": {
    "ExecuteTime": {
     "end_time": "2025-05-27T13:45:33.979536Z",
     "start_time": "2025-05-27T12:34:04.537069Z"
    }
   },
   "cell_type": "code",
   "source": "",
   "id": "5effbc82f2e66a3b",
   "outputs": [],
   "execution_count": null
  }
 ],
 "metadata": {
  "kernelspec": {
   "display_name": "Python 3",
   "language": "python",
   "name": "python3"
  },
  "language_info": {
   "codemirror_mode": {
    "name": "ipython",
    "version": 2
   },
   "file_extension": ".py",
   "mimetype": "text/x-python",
   "name": "python",
   "nbconvert_exporter": "python",
   "pygments_lexer": "ipython2",
   "version": "2.7.6"
  }
 },
 "nbformat": 4,
 "nbformat_minor": 5
}
